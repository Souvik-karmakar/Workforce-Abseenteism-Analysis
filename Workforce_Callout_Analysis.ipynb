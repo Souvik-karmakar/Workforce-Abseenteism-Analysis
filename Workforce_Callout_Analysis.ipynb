{
  "nbformat": 4,
  "nbformat_minor": 0,
  "metadata": {
    "colab": {
      "provenance": []
    },
    "kernelspec": {
      "name": "python3",
      "display_name": "Python 3"
    },
    "language_info": {
      "name": "python"
    }
  },
  "cells": [
    {
      "cell_type": "markdown",
      "source": [
        "#**Workforce Callout Analysis and Employee Performance Optimization**"
      ],
      "metadata": {
        "id": "33VCcA_tegNs"
      }
    },
    {
      "cell_type": "markdown",
      "source": [
        "This analysis aims to explore patterns and trends in workforce callouts, identify employees with high callout frequencies, and provide insights into potential areas for improvement or intervention. By examining the distribution of callouts over time, job titles, shifts, and individual employees, we can gain a deeper understanding of the factors influencing callout behavior and take steps to optimize workforce management and support employee well-being."
      ],
      "metadata": {
        "id": "DgGNG0yHez96"
      }
    },
    {
      "cell_type": "markdown",
      "source": [
        "## Dataset Description\n",
        "1. **EmplID - Employee Name:** Unique identifier and name of the employee.\n",
        "2. **Employee - EmplID** - Job Title: Employee ID, job title, and possibly additional employment details.\n",
        "3. **Terminal:** Location or workstation where the employee works.\n",
        "4. **Workforce Callout Number:** Unique identifier for each absenteeism incident.\n",
        "5. **Call out Reasons:** Reasons provided by employees for their absence.\n",
        "6. **Related Employee:** Information about any related individuals involved in the absenteeism incident.\n",
        "7. **Shift:** Employee's assigned work schedule or shift.\n",
        "8. **Date Created:** Date and time when the absenteeism incident was recorded."
      ],
      "metadata": {
        "id": "q-WDbfzfe2Gu"
      }
    },
    {
      "cell_type": "markdown",
      "source": [
        "## Importing Required Libraries"
      ],
      "metadata": {
        "id": "-ZHpaqClkwv1"
      }
    },
    {
      "cell_type": "code",
      "execution_count": 25,
      "metadata": {
        "id": "rnwQ9gtXm-m9"
      },
      "outputs": [],
      "source": [
        "# Import the NumPy library for numerical operations\n",
        "import numpy as np\n",
        "\n",
        "# Import the Pandas library for data manipulation and analysis\n",
        "import pandas as pd\n",
        "\n",
        "# Import the Matplotlib library for data visualization\n",
        "import matplotlib.pyplot as plt"
      ]
    },
    {
      "cell_type": "code",
      "source": [
        "# Read the CSV file \"/content/Terminal_Workforce_Callout_Reporting.csv\" into a Pandas DataFrame\n",
        "df = pd.read_csv(\"/content/Terminal_Workforce_Callout_Reporting.csv\", encoding='latin1')"
      ],
      "metadata": {
        "id": "FuUwPBScndX3"
      },
      "execution_count": 26,
      "outputs": []
    },
    {
      "cell_type": "code",
      "source": [
        "# Display the first few rows of the DataFrame using the head() method\n",
        "df.head()"
      ],
      "metadata": {
        "colab": {
          "base_uri": "https://localhost:8080/",
          "height": 414
        },
        "id": "lDPJAfNYpEcH",
        "outputId": "663f338b-e94d-4a44-e325-c94a1331f621"
      },
      "execution_count": 27,
      "outputs": [
        {
          "output_type": "execute_result",
          "data": {
            "text/plain": [
              "  EmplID - Employee Name Employee - EmplID - Job Title      Terminal  \\\n",
              "0          Larry Perkins                 Bus Attendant  New York Ave   \n",
              "1      Poston, Britannia        Motor Vehicle Operator  New York Ave   \n",
              "2         Dicks, Elois F                 BUS ATTENDANT  New York Ave   \n",
              "3        Dupree, Christy                 BUS ATTENDANT  New York Ave   \n",
              "4          Bianca Brooks        MOTOR VEHICLE OPERATOR  New York Ave   \n",
              "\n",
              "  Workforce Callout Number        Call out Reasons  Related Employee  \\\n",
              "0        +1 (202) 714-2350  Unscheduled Sick Leave             31036   \n",
              "1        +1 (240) 640-9687  Unscheduled Sick Leave             41820   \n",
              "2        +1 (202) 446-8697       Paid Family Leave             68058   \n",
              "3        +1 (202) 427-1159  Unscheduled Sick Leave             41452   \n",
              "4        +1 (202) 227-8884  Unscheduled Sick Leave            127345   \n",
              "\n",
              "       Shift         Date Created  \n",
              "0  AM and PM  03-17-2024 10:46 PM  \n",
              "1  AM and PM  03-17-2024 08:28 PM  \n",
              "2  AM and PM  03-17-2024 04:51 PM  \n",
              "3         PM  03-15-2024 02:35 PM  \n",
              "4         PM  03-15-2024 12:00 PM  "
            ],
            "text/html": [
              "\n",
              "  <div id=\"df-353e9d54-18af-472d-9ad4-df369e33d029\" class=\"colab-df-container\">\n",
              "    <div>\n",
              "<style scoped>\n",
              "    .dataframe tbody tr th:only-of-type {\n",
              "        vertical-align: middle;\n",
              "    }\n",
              "\n",
              "    .dataframe tbody tr th {\n",
              "        vertical-align: top;\n",
              "    }\n",
              "\n",
              "    .dataframe thead th {\n",
              "        text-align: right;\n",
              "    }\n",
              "</style>\n",
              "<table border=\"1\" class=\"dataframe\">\n",
              "  <thead>\n",
              "    <tr style=\"text-align: right;\">\n",
              "      <th></th>\n",
              "      <th>EmplID - Employee Name</th>\n",
              "      <th>Employee - EmplID - Job Title</th>\n",
              "      <th>Terminal</th>\n",
              "      <th>Workforce Callout Number</th>\n",
              "      <th>Call out Reasons</th>\n",
              "      <th>Related Employee</th>\n",
              "      <th>Shift</th>\n",
              "      <th>Date Created</th>\n",
              "    </tr>\n",
              "  </thead>\n",
              "  <tbody>\n",
              "    <tr>\n",
              "      <th>0</th>\n",
              "      <td>Larry Perkins</td>\n",
              "      <td>Bus Attendant</td>\n",
              "      <td>New York Ave</td>\n",
              "      <td>+1 (202) 714-2350</td>\n",
              "      <td>Unscheduled Sick Leave</td>\n",
              "      <td>31036</td>\n",
              "      <td>AM and PM</td>\n",
              "      <td>03-17-2024 10:46 PM</td>\n",
              "    </tr>\n",
              "    <tr>\n",
              "      <th>1</th>\n",
              "      <td>Poston, Britannia</td>\n",
              "      <td>Motor Vehicle Operator</td>\n",
              "      <td>New York Ave</td>\n",
              "      <td>+1 (240) 640-9687</td>\n",
              "      <td>Unscheduled Sick Leave</td>\n",
              "      <td>41820</td>\n",
              "      <td>AM and PM</td>\n",
              "      <td>03-17-2024 08:28 PM</td>\n",
              "    </tr>\n",
              "    <tr>\n",
              "      <th>2</th>\n",
              "      <td>Dicks, Elois F</td>\n",
              "      <td>BUS ATTENDANT</td>\n",
              "      <td>New York Ave</td>\n",
              "      <td>+1 (202) 446-8697</td>\n",
              "      <td>Paid Family Leave</td>\n",
              "      <td>68058</td>\n",
              "      <td>AM and PM</td>\n",
              "      <td>03-17-2024 04:51 PM</td>\n",
              "    </tr>\n",
              "    <tr>\n",
              "      <th>3</th>\n",
              "      <td>Dupree, Christy</td>\n",
              "      <td>BUS ATTENDANT</td>\n",
              "      <td>New York Ave</td>\n",
              "      <td>+1 (202) 427-1159</td>\n",
              "      <td>Unscheduled Sick Leave</td>\n",
              "      <td>41452</td>\n",
              "      <td>PM</td>\n",
              "      <td>03-15-2024 02:35 PM</td>\n",
              "    </tr>\n",
              "    <tr>\n",
              "      <th>4</th>\n",
              "      <td>Bianca Brooks</td>\n",
              "      <td>MOTOR VEHICLE OPERATOR</td>\n",
              "      <td>New York Ave</td>\n",
              "      <td>+1 (202) 227-8884</td>\n",
              "      <td>Unscheduled Sick Leave</td>\n",
              "      <td>127345</td>\n",
              "      <td>PM</td>\n",
              "      <td>03-15-2024 12:00 PM</td>\n",
              "    </tr>\n",
              "  </tbody>\n",
              "</table>\n",
              "</div>\n",
              "    <div class=\"colab-df-buttons\">\n",
              "\n",
              "  <div class=\"colab-df-container\">\n",
              "    <button class=\"colab-df-convert\" onclick=\"convertToInteractive('df-353e9d54-18af-472d-9ad4-df369e33d029')\"\n",
              "            title=\"Convert this dataframe to an interactive table.\"\n",
              "            style=\"display:none;\">\n",
              "\n",
              "  <svg xmlns=\"http://www.w3.org/2000/svg\" height=\"24px\" viewBox=\"0 -960 960 960\">\n",
              "    <path d=\"M120-120v-720h720v720H120Zm60-500h600v-160H180v160Zm220 220h160v-160H400v160Zm0 220h160v-160H400v160ZM180-400h160v-160H180v160Zm440 0h160v-160H620v160ZM180-180h160v-160H180v160Zm440 0h160v-160H620v160Z\"/>\n",
              "  </svg>\n",
              "    </button>\n",
              "\n",
              "  <style>\n",
              "    .colab-df-container {\n",
              "      display:flex;\n",
              "      gap: 12px;\n",
              "    }\n",
              "\n",
              "    .colab-df-convert {\n",
              "      background-color: #E8F0FE;\n",
              "      border: none;\n",
              "      border-radius: 50%;\n",
              "      cursor: pointer;\n",
              "      display: none;\n",
              "      fill: #1967D2;\n",
              "      height: 32px;\n",
              "      padding: 0 0 0 0;\n",
              "      width: 32px;\n",
              "    }\n",
              "\n",
              "    .colab-df-convert:hover {\n",
              "      background-color: #E2EBFA;\n",
              "      box-shadow: 0px 1px 2px rgba(60, 64, 67, 0.3), 0px 1px 3px 1px rgba(60, 64, 67, 0.15);\n",
              "      fill: #174EA6;\n",
              "    }\n",
              "\n",
              "    .colab-df-buttons div {\n",
              "      margin-bottom: 4px;\n",
              "    }\n",
              "\n",
              "    [theme=dark] .colab-df-convert {\n",
              "      background-color: #3B4455;\n",
              "      fill: #D2E3FC;\n",
              "    }\n",
              "\n",
              "    [theme=dark] .colab-df-convert:hover {\n",
              "      background-color: #434B5C;\n",
              "      box-shadow: 0px 1px 3px 1px rgba(0, 0, 0, 0.15);\n",
              "      filter: drop-shadow(0px 1px 2px rgba(0, 0, 0, 0.3));\n",
              "      fill: #FFFFFF;\n",
              "    }\n",
              "  </style>\n",
              "\n",
              "    <script>\n",
              "      const buttonEl =\n",
              "        document.querySelector('#df-353e9d54-18af-472d-9ad4-df369e33d029 button.colab-df-convert');\n",
              "      buttonEl.style.display =\n",
              "        google.colab.kernel.accessAllowed ? 'block' : 'none';\n",
              "\n",
              "      async function convertToInteractive(key) {\n",
              "        const element = document.querySelector('#df-353e9d54-18af-472d-9ad4-df369e33d029');\n",
              "        const dataTable =\n",
              "          await google.colab.kernel.invokeFunction('convertToInteractive',\n",
              "                                                    [key], {});\n",
              "        if (!dataTable) return;\n",
              "\n",
              "        const docLinkHtml = 'Like what you see? Visit the ' +\n",
              "          '<a target=\"_blank\" href=https://colab.research.google.com/notebooks/data_table.ipynb>data table notebook</a>'\n",
              "          + ' to learn more about interactive tables.';\n",
              "        element.innerHTML = '';\n",
              "        dataTable['output_type'] = 'display_data';\n",
              "        await google.colab.output.renderOutput(dataTable, element);\n",
              "        const docLink = document.createElement('div');\n",
              "        docLink.innerHTML = docLinkHtml;\n",
              "        element.appendChild(docLink);\n",
              "      }\n",
              "    </script>\n",
              "  </div>\n",
              "\n",
              "\n",
              "<div id=\"df-65bbb735-ecf8-4058-954a-ccdff1cef296\">\n",
              "  <button class=\"colab-df-quickchart\" onclick=\"quickchart('df-65bbb735-ecf8-4058-954a-ccdff1cef296')\"\n",
              "            title=\"Suggest charts\"\n",
              "            style=\"display:none;\">\n",
              "\n",
              "<svg xmlns=\"http://www.w3.org/2000/svg\" height=\"24px\"viewBox=\"0 0 24 24\"\n",
              "     width=\"24px\">\n",
              "    <g>\n",
              "        <path d=\"M19 3H5c-1.1 0-2 .9-2 2v14c0 1.1.9 2 2 2h14c1.1 0 2-.9 2-2V5c0-1.1-.9-2-2-2zM9 17H7v-7h2v7zm4 0h-2V7h2v10zm4 0h-2v-4h2v4z\"/>\n",
              "    </g>\n",
              "</svg>\n",
              "  </button>\n",
              "\n",
              "<style>\n",
              "  .colab-df-quickchart {\n",
              "      --bg-color: #E8F0FE;\n",
              "      --fill-color: #1967D2;\n",
              "      --hover-bg-color: #E2EBFA;\n",
              "      --hover-fill-color: #174EA6;\n",
              "      --disabled-fill-color: #AAA;\n",
              "      --disabled-bg-color: #DDD;\n",
              "  }\n",
              "\n",
              "  [theme=dark] .colab-df-quickchart {\n",
              "      --bg-color: #3B4455;\n",
              "      --fill-color: #D2E3FC;\n",
              "      --hover-bg-color: #434B5C;\n",
              "      --hover-fill-color: #FFFFFF;\n",
              "      --disabled-bg-color: #3B4455;\n",
              "      --disabled-fill-color: #666;\n",
              "  }\n",
              "\n",
              "  .colab-df-quickchart {\n",
              "    background-color: var(--bg-color);\n",
              "    border: none;\n",
              "    border-radius: 50%;\n",
              "    cursor: pointer;\n",
              "    display: none;\n",
              "    fill: var(--fill-color);\n",
              "    height: 32px;\n",
              "    padding: 0;\n",
              "    width: 32px;\n",
              "  }\n",
              "\n",
              "  .colab-df-quickchart:hover {\n",
              "    background-color: var(--hover-bg-color);\n",
              "    box-shadow: 0 1px 2px rgba(60, 64, 67, 0.3), 0 1px 3px 1px rgba(60, 64, 67, 0.15);\n",
              "    fill: var(--button-hover-fill-color);\n",
              "  }\n",
              "\n",
              "  .colab-df-quickchart-complete:disabled,\n",
              "  .colab-df-quickchart-complete:disabled:hover {\n",
              "    background-color: var(--disabled-bg-color);\n",
              "    fill: var(--disabled-fill-color);\n",
              "    box-shadow: none;\n",
              "  }\n",
              "\n",
              "  .colab-df-spinner {\n",
              "    border: 2px solid var(--fill-color);\n",
              "    border-color: transparent;\n",
              "    border-bottom-color: var(--fill-color);\n",
              "    animation:\n",
              "      spin 1s steps(1) infinite;\n",
              "  }\n",
              "\n",
              "  @keyframes spin {\n",
              "    0% {\n",
              "      border-color: transparent;\n",
              "      border-bottom-color: var(--fill-color);\n",
              "      border-left-color: var(--fill-color);\n",
              "    }\n",
              "    20% {\n",
              "      border-color: transparent;\n",
              "      border-left-color: var(--fill-color);\n",
              "      border-top-color: var(--fill-color);\n",
              "    }\n",
              "    30% {\n",
              "      border-color: transparent;\n",
              "      border-left-color: var(--fill-color);\n",
              "      border-top-color: var(--fill-color);\n",
              "      border-right-color: var(--fill-color);\n",
              "    }\n",
              "    40% {\n",
              "      border-color: transparent;\n",
              "      border-right-color: var(--fill-color);\n",
              "      border-top-color: var(--fill-color);\n",
              "    }\n",
              "    60% {\n",
              "      border-color: transparent;\n",
              "      border-right-color: var(--fill-color);\n",
              "    }\n",
              "    80% {\n",
              "      border-color: transparent;\n",
              "      border-right-color: var(--fill-color);\n",
              "      border-bottom-color: var(--fill-color);\n",
              "    }\n",
              "    90% {\n",
              "      border-color: transparent;\n",
              "      border-bottom-color: var(--fill-color);\n",
              "    }\n",
              "  }\n",
              "</style>\n",
              "\n",
              "  <script>\n",
              "    async function quickchart(key) {\n",
              "      const quickchartButtonEl =\n",
              "        document.querySelector('#' + key + ' button');\n",
              "      quickchartButtonEl.disabled = true;  // To prevent multiple clicks.\n",
              "      quickchartButtonEl.classList.add('colab-df-spinner');\n",
              "      try {\n",
              "        const charts = await google.colab.kernel.invokeFunction(\n",
              "            'suggestCharts', [key], {});\n",
              "      } catch (error) {\n",
              "        console.error('Error during call to suggestCharts:', error);\n",
              "      }\n",
              "      quickchartButtonEl.classList.remove('colab-df-spinner');\n",
              "      quickchartButtonEl.classList.add('colab-df-quickchart-complete');\n",
              "    }\n",
              "    (() => {\n",
              "      let quickchartButtonEl =\n",
              "        document.querySelector('#df-65bbb735-ecf8-4058-954a-ccdff1cef296 button');\n",
              "      quickchartButtonEl.style.display =\n",
              "        google.colab.kernel.accessAllowed ? 'block' : 'none';\n",
              "    })();\n",
              "  </script>\n",
              "</div>\n",
              "\n",
              "    </div>\n",
              "  </div>\n"
            ],
            "application/vnd.google.colaboratory.intrinsic+json": {
              "type": "dataframe",
              "variable_name": "df",
              "summary": "{\n  \"name\": \"df\",\n  \"rows\": 6288,\n  \"fields\": [\n    {\n      \"column\": \"EmplID - Employee Name\",\n      \"properties\": {\n        \"dtype\": \"category\",\n        \"num_unique_values\": 119,\n        \"samples\": [\n          \"Harris, Sharda\",\n          \"Burks, Rhonda R\",\n          \"Bianca Brooks\"\n        ],\n        \"semantic_type\": \"\",\n        \"description\": \"\"\n      }\n    },\n    {\n      \"column\": \"Employee - EmplID - Job Title\",\n      \"properties\": {\n        \"dtype\": \"category\",\n        \"num_unique_values\": 4,\n        \"samples\": [\n          \"Motor Vehicle Operator\",\n          \"MOTOR VEHICLE OPERATOR\",\n          \"Bus Attendant\"\n        ],\n        \"semantic_type\": \"\",\n        \"description\": \"\"\n      }\n    },\n    {\n      \"column\": \"Terminal\",\n      \"properties\": {\n        \"dtype\": \"category\",\n        \"num_unique_values\": 1,\n        \"samples\": [\n          \"New York Ave\"\n        ],\n        \"semantic_type\": \"\",\n        \"description\": \"\"\n      }\n    },\n    {\n      \"column\": \"Workforce Callout Number\",\n      \"properties\": {\n        \"dtype\": \"category\",\n        \"num_unique_values\": 207,\n        \"samples\": [\n          \"+1 (202) 843-7212\"\n        ],\n        \"semantic_type\": \"\",\n        \"description\": \"\"\n      }\n    },\n    {\n      \"column\": \"Call out Reasons\",\n      \"properties\": {\n        \"dtype\": \"category\",\n        \"num_unique_values\": 6,\n        \"samples\": [\n          \"Unscheduled Sick Leave\"\n        ],\n        \"semantic_type\": \"\",\n        \"description\": \"\"\n      }\n    },\n    {\n      \"column\": \"Related Employee\",\n      \"properties\": {\n        \"dtype\": \"number\",\n        \"std\": 35002,\n        \"min\": 31036,\n        \"max\": 132007,\n        \"num_unique_values\": 119,\n        \"samples\": [\n          97504\n        ],\n        \"semantic_type\": \"\",\n        \"description\": \"\"\n      }\n    },\n    {\n      \"column\": \"Shift\",\n      \"properties\": {\n        \"dtype\": \"category\",\n        \"num_unique_values\": 3,\n        \"samples\": [\n          \"AM and PM\"\n        ],\n        \"semantic_type\": \"\",\n        \"description\": \"\"\n      }\n    },\n    {\n      \"column\": \"Date Created\",\n      \"properties\": {\n        \"dtype\": \"object\",\n        \"num_unique_values\": 6138,\n        \"samples\": [\n          \"10-23-2023 08:34 PM\"\n        ],\n        \"semantic_type\": \"\",\n        \"description\": \"\"\n      }\n    }\n  ]\n}"
            }
          },
          "metadata": {},
          "execution_count": 27
        }
      ]
    },
    {
      "cell_type": "code",
      "source": [
        "# Display the last few rows of the DataFrame using the tail() method\n",
        "df.tail()"
      ],
      "metadata": {
        "colab": {
          "base_uri": "https://localhost:8080/",
          "height": 414
        },
        "id": "Ji-OoAKapZyN",
        "outputId": "4faa8790-44c8-4430-c13f-12c9638d2b97"
      },
      "execution_count": 28,
      "outputs": [
        {
          "output_type": "execute_result",
          "data": {
            "text/plain": [
              "     EmplID - Employee Name Employee - EmplID - Job Title      Terminal  \\\n",
              "6283       Brawner, Karen S                 BUS ATTENDANT  New York Ave   \n",
              "6284    Thompson, Tiffany D                 Bus Attendant  New York Ave   \n",
              "6285    Thompson, Tiffany D                 Bus Attendant  New York Ave   \n",
              "6286     Johnson, Rolisha A                 Bus Attendant  New York Ave   \n",
              "6287       Mack, Chakeena R        MOTOR VEHICLE OPERATOR  New York Ave   \n",
              "\n",
              "     Workforce Callout Number            Call out Reasons  Related Employee  \\\n",
              "6283        +1 (202) 710-6059           Paid Family Leave            113159   \n",
              "6284        +1 (202) 304-3248  Annual Leave - Unscheduled            101589   \n",
              "6285        +1 (202) 304-3248                Late to Work            101589   \n",
              "6286        +1 (202) 907-6935           Paid Family Leave            111881   \n",
              "6287        +1 (202) 716-1334  Annual Leave - Unscheduled             41484   \n",
              "\n",
              "          Shift         Date Created  \n",
              "6283  AM and PM  09-19-2022 07:36 PM  \n",
              "6284         PM  09-19-2022 01:46 PM  \n",
              "6285         PM  09-19-2022 01:41 PM  \n",
              "6286  AM and PM  09-19-2022 04:02 AM  \n",
              "6287  AM and PM  09-18-2022 07:30 PM  "
            ],
            "text/html": [
              "\n",
              "  <div id=\"df-316a92f0-d075-46bc-9902-9568521727c4\" class=\"colab-df-container\">\n",
              "    <div>\n",
              "<style scoped>\n",
              "    .dataframe tbody tr th:only-of-type {\n",
              "        vertical-align: middle;\n",
              "    }\n",
              "\n",
              "    .dataframe tbody tr th {\n",
              "        vertical-align: top;\n",
              "    }\n",
              "\n",
              "    .dataframe thead th {\n",
              "        text-align: right;\n",
              "    }\n",
              "</style>\n",
              "<table border=\"1\" class=\"dataframe\">\n",
              "  <thead>\n",
              "    <tr style=\"text-align: right;\">\n",
              "      <th></th>\n",
              "      <th>EmplID - Employee Name</th>\n",
              "      <th>Employee - EmplID - Job Title</th>\n",
              "      <th>Terminal</th>\n",
              "      <th>Workforce Callout Number</th>\n",
              "      <th>Call out Reasons</th>\n",
              "      <th>Related Employee</th>\n",
              "      <th>Shift</th>\n",
              "      <th>Date Created</th>\n",
              "    </tr>\n",
              "  </thead>\n",
              "  <tbody>\n",
              "    <tr>\n",
              "      <th>6283</th>\n",
              "      <td>Brawner, Karen S</td>\n",
              "      <td>BUS ATTENDANT</td>\n",
              "      <td>New York Ave</td>\n",
              "      <td>+1 (202) 710-6059</td>\n",
              "      <td>Paid Family Leave</td>\n",
              "      <td>113159</td>\n",
              "      <td>AM and PM</td>\n",
              "      <td>09-19-2022 07:36 PM</td>\n",
              "    </tr>\n",
              "    <tr>\n",
              "      <th>6284</th>\n",
              "      <td>Thompson, Tiffany D</td>\n",
              "      <td>Bus Attendant</td>\n",
              "      <td>New York Ave</td>\n",
              "      <td>+1 (202) 304-3248</td>\n",
              "      <td>Annual Leave - Unscheduled</td>\n",
              "      <td>101589</td>\n",
              "      <td>PM</td>\n",
              "      <td>09-19-2022 01:46 PM</td>\n",
              "    </tr>\n",
              "    <tr>\n",
              "      <th>6285</th>\n",
              "      <td>Thompson, Tiffany D</td>\n",
              "      <td>Bus Attendant</td>\n",
              "      <td>New York Ave</td>\n",
              "      <td>+1 (202) 304-3248</td>\n",
              "      <td>Late to Work</td>\n",
              "      <td>101589</td>\n",
              "      <td>PM</td>\n",
              "      <td>09-19-2022 01:41 PM</td>\n",
              "    </tr>\n",
              "    <tr>\n",
              "      <th>6286</th>\n",
              "      <td>Johnson, Rolisha A</td>\n",
              "      <td>Bus Attendant</td>\n",
              "      <td>New York Ave</td>\n",
              "      <td>+1 (202) 907-6935</td>\n",
              "      <td>Paid Family Leave</td>\n",
              "      <td>111881</td>\n",
              "      <td>AM and PM</td>\n",
              "      <td>09-19-2022 04:02 AM</td>\n",
              "    </tr>\n",
              "    <tr>\n",
              "      <th>6287</th>\n",
              "      <td>Mack, Chakeena R</td>\n",
              "      <td>MOTOR VEHICLE OPERATOR</td>\n",
              "      <td>New York Ave</td>\n",
              "      <td>+1 (202) 716-1334</td>\n",
              "      <td>Annual Leave - Unscheduled</td>\n",
              "      <td>41484</td>\n",
              "      <td>AM and PM</td>\n",
              "      <td>09-18-2022 07:30 PM</td>\n",
              "    </tr>\n",
              "  </tbody>\n",
              "</table>\n",
              "</div>\n",
              "    <div class=\"colab-df-buttons\">\n",
              "\n",
              "  <div class=\"colab-df-container\">\n",
              "    <button class=\"colab-df-convert\" onclick=\"convertToInteractive('df-316a92f0-d075-46bc-9902-9568521727c4')\"\n",
              "            title=\"Convert this dataframe to an interactive table.\"\n",
              "            style=\"display:none;\">\n",
              "\n",
              "  <svg xmlns=\"http://www.w3.org/2000/svg\" height=\"24px\" viewBox=\"0 -960 960 960\">\n",
              "    <path d=\"M120-120v-720h720v720H120Zm60-500h600v-160H180v160Zm220 220h160v-160H400v160Zm0 220h160v-160H400v160ZM180-400h160v-160H180v160Zm440 0h160v-160H620v160ZM180-180h160v-160H180v160Zm440 0h160v-160H620v160Z\"/>\n",
              "  </svg>\n",
              "    </button>\n",
              "\n",
              "  <style>\n",
              "    .colab-df-container {\n",
              "      display:flex;\n",
              "      gap: 12px;\n",
              "    }\n",
              "\n",
              "    .colab-df-convert {\n",
              "      background-color: #E8F0FE;\n",
              "      border: none;\n",
              "      border-radius: 50%;\n",
              "      cursor: pointer;\n",
              "      display: none;\n",
              "      fill: #1967D2;\n",
              "      height: 32px;\n",
              "      padding: 0 0 0 0;\n",
              "      width: 32px;\n",
              "    }\n",
              "\n",
              "    .colab-df-convert:hover {\n",
              "      background-color: #E2EBFA;\n",
              "      box-shadow: 0px 1px 2px rgba(60, 64, 67, 0.3), 0px 1px 3px 1px rgba(60, 64, 67, 0.15);\n",
              "      fill: #174EA6;\n",
              "    }\n",
              "\n",
              "    .colab-df-buttons div {\n",
              "      margin-bottom: 4px;\n",
              "    }\n",
              "\n",
              "    [theme=dark] .colab-df-convert {\n",
              "      background-color: #3B4455;\n",
              "      fill: #D2E3FC;\n",
              "    }\n",
              "\n",
              "    [theme=dark] .colab-df-convert:hover {\n",
              "      background-color: #434B5C;\n",
              "      box-shadow: 0px 1px 3px 1px rgba(0, 0, 0, 0.15);\n",
              "      filter: drop-shadow(0px 1px 2px rgba(0, 0, 0, 0.3));\n",
              "      fill: #FFFFFF;\n",
              "    }\n",
              "  </style>\n",
              "\n",
              "    <script>\n",
              "      const buttonEl =\n",
              "        document.querySelector('#df-316a92f0-d075-46bc-9902-9568521727c4 button.colab-df-convert');\n",
              "      buttonEl.style.display =\n",
              "        google.colab.kernel.accessAllowed ? 'block' : 'none';\n",
              "\n",
              "      async function convertToInteractive(key) {\n",
              "        const element = document.querySelector('#df-316a92f0-d075-46bc-9902-9568521727c4');\n",
              "        const dataTable =\n",
              "          await google.colab.kernel.invokeFunction('convertToInteractive',\n",
              "                                                    [key], {});\n",
              "        if (!dataTable) return;\n",
              "\n",
              "        const docLinkHtml = 'Like what you see? Visit the ' +\n",
              "          '<a target=\"_blank\" href=https://colab.research.google.com/notebooks/data_table.ipynb>data table notebook</a>'\n",
              "          + ' to learn more about interactive tables.';\n",
              "        element.innerHTML = '';\n",
              "        dataTable['output_type'] = 'display_data';\n",
              "        await google.colab.output.renderOutput(dataTable, element);\n",
              "        const docLink = document.createElement('div');\n",
              "        docLink.innerHTML = docLinkHtml;\n",
              "        element.appendChild(docLink);\n",
              "      }\n",
              "    </script>\n",
              "  </div>\n",
              "\n",
              "\n",
              "<div id=\"df-415435a5-0a3d-4a2e-b727-68b968093327\">\n",
              "  <button class=\"colab-df-quickchart\" onclick=\"quickchart('df-415435a5-0a3d-4a2e-b727-68b968093327')\"\n",
              "            title=\"Suggest charts\"\n",
              "            style=\"display:none;\">\n",
              "\n",
              "<svg xmlns=\"http://www.w3.org/2000/svg\" height=\"24px\"viewBox=\"0 0 24 24\"\n",
              "     width=\"24px\">\n",
              "    <g>\n",
              "        <path d=\"M19 3H5c-1.1 0-2 .9-2 2v14c0 1.1.9 2 2 2h14c1.1 0 2-.9 2-2V5c0-1.1-.9-2-2-2zM9 17H7v-7h2v7zm4 0h-2V7h2v10zm4 0h-2v-4h2v4z\"/>\n",
              "    </g>\n",
              "</svg>\n",
              "  </button>\n",
              "\n",
              "<style>\n",
              "  .colab-df-quickchart {\n",
              "      --bg-color: #E8F0FE;\n",
              "      --fill-color: #1967D2;\n",
              "      --hover-bg-color: #E2EBFA;\n",
              "      --hover-fill-color: #174EA6;\n",
              "      --disabled-fill-color: #AAA;\n",
              "      --disabled-bg-color: #DDD;\n",
              "  }\n",
              "\n",
              "  [theme=dark] .colab-df-quickchart {\n",
              "      --bg-color: #3B4455;\n",
              "      --fill-color: #D2E3FC;\n",
              "      --hover-bg-color: #434B5C;\n",
              "      --hover-fill-color: #FFFFFF;\n",
              "      --disabled-bg-color: #3B4455;\n",
              "      --disabled-fill-color: #666;\n",
              "  }\n",
              "\n",
              "  .colab-df-quickchart {\n",
              "    background-color: var(--bg-color);\n",
              "    border: none;\n",
              "    border-radius: 50%;\n",
              "    cursor: pointer;\n",
              "    display: none;\n",
              "    fill: var(--fill-color);\n",
              "    height: 32px;\n",
              "    padding: 0;\n",
              "    width: 32px;\n",
              "  }\n",
              "\n",
              "  .colab-df-quickchart:hover {\n",
              "    background-color: var(--hover-bg-color);\n",
              "    box-shadow: 0 1px 2px rgba(60, 64, 67, 0.3), 0 1px 3px 1px rgba(60, 64, 67, 0.15);\n",
              "    fill: var(--button-hover-fill-color);\n",
              "  }\n",
              "\n",
              "  .colab-df-quickchart-complete:disabled,\n",
              "  .colab-df-quickchart-complete:disabled:hover {\n",
              "    background-color: var(--disabled-bg-color);\n",
              "    fill: var(--disabled-fill-color);\n",
              "    box-shadow: none;\n",
              "  }\n",
              "\n",
              "  .colab-df-spinner {\n",
              "    border: 2px solid var(--fill-color);\n",
              "    border-color: transparent;\n",
              "    border-bottom-color: var(--fill-color);\n",
              "    animation:\n",
              "      spin 1s steps(1) infinite;\n",
              "  }\n",
              "\n",
              "  @keyframes spin {\n",
              "    0% {\n",
              "      border-color: transparent;\n",
              "      border-bottom-color: var(--fill-color);\n",
              "      border-left-color: var(--fill-color);\n",
              "    }\n",
              "    20% {\n",
              "      border-color: transparent;\n",
              "      border-left-color: var(--fill-color);\n",
              "      border-top-color: var(--fill-color);\n",
              "    }\n",
              "    30% {\n",
              "      border-color: transparent;\n",
              "      border-left-color: var(--fill-color);\n",
              "      border-top-color: var(--fill-color);\n",
              "      border-right-color: var(--fill-color);\n",
              "    }\n",
              "    40% {\n",
              "      border-color: transparent;\n",
              "      border-right-color: var(--fill-color);\n",
              "      border-top-color: var(--fill-color);\n",
              "    }\n",
              "    60% {\n",
              "      border-color: transparent;\n",
              "      border-right-color: var(--fill-color);\n",
              "    }\n",
              "    80% {\n",
              "      border-color: transparent;\n",
              "      border-right-color: var(--fill-color);\n",
              "      border-bottom-color: var(--fill-color);\n",
              "    }\n",
              "    90% {\n",
              "      border-color: transparent;\n",
              "      border-bottom-color: var(--fill-color);\n",
              "    }\n",
              "  }\n",
              "</style>\n",
              "\n",
              "  <script>\n",
              "    async function quickchart(key) {\n",
              "      const quickchartButtonEl =\n",
              "        document.querySelector('#' + key + ' button');\n",
              "      quickchartButtonEl.disabled = true;  // To prevent multiple clicks.\n",
              "      quickchartButtonEl.classList.add('colab-df-spinner');\n",
              "      try {\n",
              "        const charts = await google.colab.kernel.invokeFunction(\n",
              "            'suggestCharts', [key], {});\n",
              "      } catch (error) {\n",
              "        console.error('Error during call to suggestCharts:', error);\n",
              "      }\n",
              "      quickchartButtonEl.classList.remove('colab-df-spinner');\n",
              "      quickchartButtonEl.classList.add('colab-df-quickchart-complete');\n",
              "    }\n",
              "    (() => {\n",
              "      let quickchartButtonEl =\n",
              "        document.querySelector('#df-415435a5-0a3d-4a2e-b727-68b968093327 button');\n",
              "      quickchartButtonEl.style.display =\n",
              "        google.colab.kernel.accessAllowed ? 'block' : 'none';\n",
              "    })();\n",
              "  </script>\n",
              "</div>\n",
              "\n",
              "    </div>\n",
              "  </div>\n"
            ],
            "application/vnd.google.colaboratory.intrinsic+json": {
              "type": "dataframe",
              "repr_error": "0"
            }
          },
          "metadata": {},
          "execution_count": 28
        }
      ]
    },
    {
      "cell_type": "code",
      "source": [
        "# Display a random sample of 5 rows from the DataFrame using the sample() method\n",
        "df.sample(5)"
      ],
      "metadata": {
        "colab": {
          "base_uri": "https://localhost:8080/",
          "height": 414
        },
        "id": "qLYL2klJpjAU",
        "outputId": "66a85ef2-b82e-45a2-8bb6-2c2077b4a883"
      },
      "execution_count": 29,
      "outputs": [
        {
          "output_type": "execute_result",
          "data": {
            "text/plain": [
              "     EmplID - Employee Name Employee - EmplID - Job Title      Terminal  \\\n",
              "3635      Cooper, Lakisha P        MOTOR VEHICLE OPERATOR  New York Ave   \n",
              "166           Montay Butler                 Bus Attendant  New York Ave   \n",
              "2468        Bullock, Monica                 BUS ATTENDANT  New York Ave   \n",
              "601         Binns, Paulette                 BUS ATTENDANT  New York Ave   \n",
              "1856      Grayson, Rhonda Y        MOTOR VEHICLE OPERATOR  New York Ave   \n",
              "\n",
              "     Workforce Callout Number        Call out Reasons  Related Employee  \\\n",
              "3635        +1 (202) 294-0812  Unscheduled Sick Leave             56872   \n",
              "166         +1 (202) 748-6356  Unscheduled Sick Leave            120998   \n",
              "2468        +1 (202) 975-8941  Unscheduled Sick Leave             42536   \n",
              "601         +1 (202) 740-1037  Unscheduled Sick Leave             42232   \n",
              "1856        +1 (240) 535-1157  Unscheduled Sick Leave             41783   \n",
              "\n",
              "          Shift         Date Created  \n",
              "3635         PM  06-29-2023 10:05 AM  \n",
              "166   AM and PM  03-05-2024 04:53 AM  \n",
              "2468         AM  09-26-2023 04:50 AM  \n",
              "601          AM  02-06-2024 05:42 AM  \n",
              "1856         PM  11-09-2023 11:41 AM  "
            ],
            "text/html": [
              "\n",
              "  <div id=\"df-fe4d9458-0e46-423f-9b64-55712baf9f7b\" class=\"colab-df-container\">\n",
              "    <div>\n",
              "<style scoped>\n",
              "    .dataframe tbody tr th:only-of-type {\n",
              "        vertical-align: middle;\n",
              "    }\n",
              "\n",
              "    .dataframe tbody tr th {\n",
              "        vertical-align: top;\n",
              "    }\n",
              "\n",
              "    .dataframe thead th {\n",
              "        text-align: right;\n",
              "    }\n",
              "</style>\n",
              "<table border=\"1\" class=\"dataframe\">\n",
              "  <thead>\n",
              "    <tr style=\"text-align: right;\">\n",
              "      <th></th>\n",
              "      <th>EmplID - Employee Name</th>\n",
              "      <th>Employee - EmplID - Job Title</th>\n",
              "      <th>Terminal</th>\n",
              "      <th>Workforce Callout Number</th>\n",
              "      <th>Call out Reasons</th>\n",
              "      <th>Related Employee</th>\n",
              "      <th>Shift</th>\n",
              "      <th>Date Created</th>\n",
              "    </tr>\n",
              "  </thead>\n",
              "  <tbody>\n",
              "    <tr>\n",
              "      <th>3635</th>\n",
              "      <td>Cooper, Lakisha P</td>\n",
              "      <td>MOTOR VEHICLE OPERATOR</td>\n",
              "      <td>New York Ave</td>\n",
              "      <td>+1 (202) 294-0812</td>\n",
              "      <td>Unscheduled Sick Leave</td>\n",
              "      <td>56872</td>\n",
              "      <td>PM</td>\n",
              "      <td>06-29-2023 10:05 AM</td>\n",
              "    </tr>\n",
              "    <tr>\n",
              "      <th>166</th>\n",
              "      <td>Montay Butler</td>\n",
              "      <td>Bus Attendant</td>\n",
              "      <td>New York Ave</td>\n",
              "      <td>+1 (202) 748-6356</td>\n",
              "      <td>Unscheduled Sick Leave</td>\n",
              "      <td>120998</td>\n",
              "      <td>AM and PM</td>\n",
              "      <td>03-05-2024 04:53 AM</td>\n",
              "    </tr>\n",
              "    <tr>\n",
              "      <th>2468</th>\n",
              "      <td>Bullock, Monica</td>\n",
              "      <td>BUS ATTENDANT</td>\n",
              "      <td>New York Ave</td>\n",
              "      <td>+1 (202) 975-8941</td>\n",
              "      <td>Unscheduled Sick Leave</td>\n",
              "      <td>42536</td>\n",
              "      <td>AM</td>\n",
              "      <td>09-26-2023 04:50 AM</td>\n",
              "    </tr>\n",
              "    <tr>\n",
              "      <th>601</th>\n",
              "      <td>Binns, Paulette</td>\n",
              "      <td>BUS ATTENDANT</td>\n",
              "      <td>New York Ave</td>\n",
              "      <td>+1 (202) 740-1037</td>\n",
              "      <td>Unscheduled Sick Leave</td>\n",
              "      <td>42232</td>\n",
              "      <td>AM</td>\n",
              "      <td>02-06-2024 05:42 AM</td>\n",
              "    </tr>\n",
              "    <tr>\n",
              "      <th>1856</th>\n",
              "      <td>Grayson, Rhonda Y</td>\n",
              "      <td>MOTOR VEHICLE OPERATOR</td>\n",
              "      <td>New York Ave</td>\n",
              "      <td>+1 (240) 535-1157</td>\n",
              "      <td>Unscheduled Sick Leave</td>\n",
              "      <td>41783</td>\n",
              "      <td>PM</td>\n",
              "      <td>11-09-2023 11:41 AM</td>\n",
              "    </tr>\n",
              "  </tbody>\n",
              "</table>\n",
              "</div>\n",
              "    <div class=\"colab-df-buttons\">\n",
              "\n",
              "  <div class=\"colab-df-container\">\n",
              "    <button class=\"colab-df-convert\" onclick=\"convertToInteractive('df-fe4d9458-0e46-423f-9b64-55712baf9f7b')\"\n",
              "            title=\"Convert this dataframe to an interactive table.\"\n",
              "            style=\"display:none;\">\n",
              "\n",
              "  <svg xmlns=\"http://www.w3.org/2000/svg\" height=\"24px\" viewBox=\"0 -960 960 960\">\n",
              "    <path d=\"M120-120v-720h720v720H120Zm60-500h600v-160H180v160Zm220 220h160v-160H400v160Zm0 220h160v-160H400v160ZM180-400h160v-160H180v160Zm440 0h160v-160H620v160ZM180-180h160v-160H180v160Zm440 0h160v-160H620v160Z\"/>\n",
              "  </svg>\n",
              "    </button>\n",
              "\n",
              "  <style>\n",
              "    .colab-df-container {\n",
              "      display:flex;\n",
              "      gap: 12px;\n",
              "    }\n",
              "\n",
              "    .colab-df-convert {\n",
              "      background-color: #E8F0FE;\n",
              "      border: none;\n",
              "      border-radius: 50%;\n",
              "      cursor: pointer;\n",
              "      display: none;\n",
              "      fill: #1967D2;\n",
              "      height: 32px;\n",
              "      padding: 0 0 0 0;\n",
              "      width: 32px;\n",
              "    }\n",
              "\n",
              "    .colab-df-convert:hover {\n",
              "      background-color: #E2EBFA;\n",
              "      box-shadow: 0px 1px 2px rgba(60, 64, 67, 0.3), 0px 1px 3px 1px rgba(60, 64, 67, 0.15);\n",
              "      fill: #174EA6;\n",
              "    }\n",
              "\n",
              "    .colab-df-buttons div {\n",
              "      margin-bottom: 4px;\n",
              "    }\n",
              "\n",
              "    [theme=dark] .colab-df-convert {\n",
              "      background-color: #3B4455;\n",
              "      fill: #D2E3FC;\n",
              "    }\n",
              "\n",
              "    [theme=dark] .colab-df-convert:hover {\n",
              "      background-color: #434B5C;\n",
              "      box-shadow: 0px 1px 3px 1px rgba(0, 0, 0, 0.15);\n",
              "      filter: drop-shadow(0px 1px 2px rgba(0, 0, 0, 0.3));\n",
              "      fill: #FFFFFF;\n",
              "    }\n",
              "  </style>\n",
              "\n",
              "    <script>\n",
              "      const buttonEl =\n",
              "        document.querySelector('#df-fe4d9458-0e46-423f-9b64-55712baf9f7b button.colab-df-convert');\n",
              "      buttonEl.style.display =\n",
              "        google.colab.kernel.accessAllowed ? 'block' : 'none';\n",
              "\n",
              "      async function convertToInteractive(key) {\n",
              "        const element = document.querySelector('#df-fe4d9458-0e46-423f-9b64-55712baf9f7b');\n",
              "        const dataTable =\n",
              "          await google.colab.kernel.invokeFunction('convertToInteractive',\n",
              "                                                    [key], {});\n",
              "        if (!dataTable) return;\n",
              "\n",
              "        const docLinkHtml = 'Like what you see? Visit the ' +\n",
              "          '<a target=\"_blank\" href=https://colab.research.google.com/notebooks/data_table.ipynb>data table notebook</a>'\n",
              "          + ' to learn more about interactive tables.';\n",
              "        element.innerHTML = '';\n",
              "        dataTable['output_type'] = 'display_data';\n",
              "        await google.colab.output.renderOutput(dataTable, element);\n",
              "        const docLink = document.createElement('div');\n",
              "        docLink.innerHTML = docLinkHtml;\n",
              "        element.appendChild(docLink);\n",
              "      }\n",
              "    </script>\n",
              "  </div>\n",
              "\n",
              "\n",
              "<div id=\"df-fe7230b3-09fb-4324-8f75-fd9021fc347d\">\n",
              "  <button class=\"colab-df-quickchart\" onclick=\"quickchart('df-fe7230b3-09fb-4324-8f75-fd9021fc347d')\"\n",
              "            title=\"Suggest charts\"\n",
              "            style=\"display:none;\">\n",
              "\n",
              "<svg xmlns=\"http://www.w3.org/2000/svg\" height=\"24px\"viewBox=\"0 0 24 24\"\n",
              "     width=\"24px\">\n",
              "    <g>\n",
              "        <path d=\"M19 3H5c-1.1 0-2 .9-2 2v14c0 1.1.9 2 2 2h14c1.1 0 2-.9 2-2V5c0-1.1-.9-2-2-2zM9 17H7v-7h2v7zm4 0h-2V7h2v10zm4 0h-2v-4h2v4z\"/>\n",
              "    </g>\n",
              "</svg>\n",
              "  </button>\n",
              "\n",
              "<style>\n",
              "  .colab-df-quickchart {\n",
              "      --bg-color: #E8F0FE;\n",
              "      --fill-color: #1967D2;\n",
              "      --hover-bg-color: #E2EBFA;\n",
              "      --hover-fill-color: #174EA6;\n",
              "      --disabled-fill-color: #AAA;\n",
              "      --disabled-bg-color: #DDD;\n",
              "  }\n",
              "\n",
              "  [theme=dark] .colab-df-quickchart {\n",
              "      --bg-color: #3B4455;\n",
              "      --fill-color: #D2E3FC;\n",
              "      --hover-bg-color: #434B5C;\n",
              "      --hover-fill-color: #FFFFFF;\n",
              "      --disabled-bg-color: #3B4455;\n",
              "      --disabled-fill-color: #666;\n",
              "  }\n",
              "\n",
              "  .colab-df-quickchart {\n",
              "    background-color: var(--bg-color);\n",
              "    border: none;\n",
              "    border-radius: 50%;\n",
              "    cursor: pointer;\n",
              "    display: none;\n",
              "    fill: var(--fill-color);\n",
              "    height: 32px;\n",
              "    padding: 0;\n",
              "    width: 32px;\n",
              "  }\n",
              "\n",
              "  .colab-df-quickchart:hover {\n",
              "    background-color: var(--hover-bg-color);\n",
              "    box-shadow: 0 1px 2px rgba(60, 64, 67, 0.3), 0 1px 3px 1px rgba(60, 64, 67, 0.15);\n",
              "    fill: var(--button-hover-fill-color);\n",
              "  }\n",
              "\n",
              "  .colab-df-quickchart-complete:disabled,\n",
              "  .colab-df-quickchart-complete:disabled:hover {\n",
              "    background-color: var(--disabled-bg-color);\n",
              "    fill: var(--disabled-fill-color);\n",
              "    box-shadow: none;\n",
              "  }\n",
              "\n",
              "  .colab-df-spinner {\n",
              "    border: 2px solid var(--fill-color);\n",
              "    border-color: transparent;\n",
              "    border-bottom-color: var(--fill-color);\n",
              "    animation:\n",
              "      spin 1s steps(1) infinite;\n",
              "  }\n",
              "\n",
              "  @keyframes spin {\n",
              "    0% {\n",
              "      border-color: transparent;\n",
              "      border-bottom-color: var(--fill-color);\n",
              "      border-left-color: var(--fill-color);\n",
              "    }\n",
              "    20% {\n",
              "      border-color: transparent;\n",
              "      border-left-color: var(--fill-color);\n",
              "      border-top-color: var(--fill-color);\n",
              "    }\n",
              "    30% {\n",
              "      border-color: transparent;\n",
              "      border-left-color: var(--fill-color);\n",
              "      border-top-color: var(--fill-color);\n",
              "      border-right-color: var(--fill-color);\n",
              "    }\n",
              "    40% {\n",
              "      border-color: transparent;\n",
              "      border-right-color: var(--fill-color);\n",
              "      border-top-color: var(--fill-color);\n",
              "    }\n",
              "    60% {\n",
              "      border-color: transparent;\n",
              "      border-right-color: var(--fill-color);\n",
              "    }\n",
              "    80% {\n",
              "      border-color: transparent;\n",
              "      border-right-color: var(--fill-color);\n",
              "      border-bottom-color: var(--fill-color);\n",
              "    }\n",
              "    90% {\n",
              "      border-color: transparent;\n",
              "      border-bottom-color: var(--fill-color);\n",
              "    }\n",
              "  }\n",
              "</style>\n",
              "\n",
              "  <script>\n",
              "    async function quickchart(key) {\n",
              "      const quickchartButtonEl =\n",
              "        document.querySelector('#' + key + ' button');\n",
              "      quickchartButtonEl.disabled = true;  // To prevent multiple clicks.\n",
              "      quickchartButtonEl.classList.add('colab-df-spinner');\n",
              "      try {\n",
              "        const charts = await google.colab.kernel.invokeFunction(\n",
              "            'suggestCharts', [key], {});\n",
              "      } catch (error) {\n",
              "        console.error('Error during call to suggestCharts:', error);\n",
              "      }\n",
              "      quickchartButtonEl.classList.remove('colab-df-spinner');\n",
              "      quickchartButtonEl.classList.add('colab-df-quickchart-complete');\n",
              "    }\n",
              "    (() => {\n",
              "      let quickchartButtonEl =\n",
              "        document.querySelector('#df-fe7230b3-09fb-4324-8f75-fd9021fc347d button');\n",
              "      quickchartButtonEl.style.display =\n",
              "        google.colab.kernel.accessAllowed ? 'block' : 'none';\n",
              "    })();\n",
              "  </script>\n",
              "</div>\n",
              "\n",
              "    </div>\n",
              "  </div>\n"
            ],
            "application/vnd.google.colaboratory.intrinsic+json": {
              "type": "dataframe",
              "repr_error": "0"
            }
          },
          "metadata": {},
          "execution_count": 29
        }
      ]
    },
    {
      "cell_type": "code",
      "source": [
        "# shape of the DataFrame using the shape attribute\n",
        "df.shape"
      ],
      "metadata": {
        "colab": {
          "base_uri": "https://localhost:8080/"
        },
        "id": "b1nBuQO_pvOT",
        "outputId": "89ce6a25-7654-464b-9a6d-984fb072a6db"
      },
      "execution_count": 30,
      "outputs": [
        {
          "output_type": "execute_result",
          "data": {
            "text/plain": [
              "(6288, 8)"
            ]
          },
          "metadata": {},
          "execution_count": 30
        }
      ]
    },
    {
      "cell_type": "code",
      "source": [
        "#Concise summary of the DataFrame using the info() method\n",
        "df.info()"
      ],
      "metadata": {
        "colab": {
          "base_uri": "https://localhost:8080/"
        },
        "id": "ZqmZcHlzp6an",
        "outputId": "6ca3b9bb-32b4-4945-9e8c-5f75f9744e6f"
      },
      "execution_count": 31,
      "outputs": [
        {
          "output_type": "stream",
          "name": "stdout",
          "text": [
            "<class 'pandas.core.frame.DataFrame'>\n",
            "RangeIndex: 6288 entries, 0 to 6287\n",
            "Data columns (total 8 columns):\n",
            " #   Column                         Non-Null Count  Dtype \n",
            "---  ------                         --------------  ----- \n",
            " 0   EmplID - Employee Name         6288 non-null   object\n",
            " 1   Employee - EmplID - Job Title  6288 non-null   object\n",
            " 2   Terminal                       6288 non-null   object\n",
            " 3   Workforce Callout Number       6283 non-null   object\n",
            " 4   Call out Reasons               6288 non-null   object\n",
            " 5   Related Employee               6288 non-null   int64 \n",
            " 6   Shift                          6288 non-null   object\n",
            " 7   Date Created                   6288 non-null   object\n",
            "dtypes: int64(1), object(7)\n",
            "memory usage: 393.1+ KB\n"
          ]
        }
      ]
    },
    {
      "cell_type": "code",
      "source": [
        "# Count the number of missing values in each column using the isnull() and sum() methods\n",
        "df.isnull().sum()"
      ],
      "metadata": {
        "colab": {
          "base_uri": "https://localhost:8080/"
        },
        "id": "yQqP0bBCqMIx",
        "outputId": "7118da7c-f296-439e-cb8b-069fe7e40203"
      },
      "execution_count": 32,
      "outputs": [
        {
          "output_type": "execute_result",
          "data": {
            "text/plain": [
              "EmplID - Employee Name           0\n",
              "Employee - EmplID - Job Title    0\n",
              "Terminal                         0\n",
              "Workforce Callout Number         5\n",
              "Call out Reasons                 0\n",
              "Related Employee                 0\n",
              "Shift                            0\n",
              "Date Created                     0\n",
              "dtype: int64"
            ]
          },
          "metadata": {},
          "execution_count": 32
        }
      ]
    },
    {
      "cell_type": "markdown",
      "source": [
        "For \"Workforce Callout Number\" only 5 missing values are present."
      ],
      "metadata": {
        "id": "0sCDWIerjqGQ"
      }
    },
    {
      "cell_type": "code",
      "source": [
        "# Count the number of duplicate rows in the DataFrame using the duplicated() and sum() methods\n",
        "df.duplicated().sum()"
      ],
      "metadata": {
        "colab": {
          "base_uri": "https://localhost:8080/"
        },
        "id": "4zorEbJ1q8L5",
        "outputId": "004f8ba9-f06d-470a-8439-5e5258dd360e"
      },
      "execution_count": 9,
      "outputs": [
        {
          "output_type": "execute_result",
          "data": {
            "text/plain": [
              "29"
            ]
          },
          "metadata": {},
          "execution_count": 9
        }
      ]
    },
    {
      "cell_type": "code",
      "source": [
        "# Generate descriptive statistics for each numerical column in the DataFrame using the describe() method\n",
        "df.describe()"
      ],
      "metadata": {
        "colab": {
          "base_uri": "https://localhost:8080/",
          "height": 300
        },
        "id": "25v4on2VrQED",
        "outputId": "fc4c8d01-69e6-4df4-cc56-cc893c724d08"
      },
      "execution_count": 10,
      "outputs": [
        {
          "output_type": "execute_result",
          "data": {
            "text/plain": [
              "       Related Employee\n",
              "count        6288.00000\n",
              "mean        74845.96215\n",
              "std         35002.46263\n",
              "min         31036.00000\n",
              "25%         41958.00000\n",
              "50%         56872.00000\n",
              "75%        109679.00000\n",
              "max        132007.00000"
            ],
            "text/html": [
              "\n",
              "  <div id=\"df-43456673-16b2-4830-8214-f40a4da91e82\" class=\"colab-df-container\">\n",
              "    <div>\n",
              "<style scoped>\n",
              "    .dataframe tbody tr th:only-of-type {\n",
              "        vertical-align: middle;\n",
              "    }\n",
              "\n",
              "    .dataframe tbody tr th {\n",
              "        vertical-align: top;\n",
              "    }\n",
              "\n",
              "    .dataframe thead th {\n",
              "        text-align: right;\n",
              "    }\n",
              "</style>\n",
              "<table border=\"1\" class=\"dataframe\">\n",
              "  <thead>\n",
              "    <tr style=\"text-align: right;\">\n",
              "      <th></th>\n",
              "      <th>Related Employee</th>\n",
              "    </tr>\n",
              "  </thead>\n",
              "  <tbody>\n",
              "    <tr>\n",
              "      <th>count</th>\n",
              "      <td>6288.00000</td>\n",
              "    </tr>\n",
              "    <tr>\n",
              "      <th>mean</th>\n",
              "      <td>74845.96215</td>\n",
              "    </tr>\n",
              "    <tr>\n",
              "      <th>std</th>\n",
              "      <td>35002.46263</td>\n",
              "    </tr>\n",
              "    <tr>\n",
              "      <th>min</th>\n",
              "      <td>31036.00000</td>\n",
              "    </tr>\n",
              "    <tr>\n",
              "      <th>25%</th>\n",
              "      <td>41958.00000</td>\n",
              "    </tr>\n",
              "    <tr>\n",
              "      <th>50%</th>\n",
              "      <td>56872.00000</td>\n",
              "    </tr>\n",
              "    <tr>\n",
              "      <th>75%</th>\n",
              "      <td>109679.00000</td>\n",
              "    </tr>\n",
              "    <tr>\n",
              "      <th>max</th>\n",
              "      <td>132007.00000</td>\n",
              "    </tr>\n",
              "  </tbody>\n",
              "</table>\n",
              "</div>\n",
              "    <div class=\"colab-df-buttons\">\n",
              "\n",
              "  <div class=\"colab-df-container\">\n",
              "    <button class=\"colab-df-convert\" onclick=\"convertToInteractive('df-43456673-16b2-4830-8214-f40a4da91e82')\"\n",
              "            title=\"Convert this dataframe to an interactive table.\"\n",
              "            style=\"display:none;\">\n",
              "\n",
              "  <svg xmlns=\"http://www.w3.org/2000/svg\" height=\"24px\" viewBox=\"0 -960 960 960\">\n",
              "    <path d=\"M120-120v-720h720v720H120Zm60-500h600v-160H180v160Zm220 220h160v-160H400v160Zm0 220h160v-160H400v160ZM180-400h160v-160H180v160Zm440 0h160v-160H620v160ZM180-180h160v-160H180v160Zm440 0h160v-160H620v160Z\"/>\n",
              "  </svg>\n",
              "    </button>\n",
              "\n",
              "  <style>\n",
              "    .colab-df-container {\n",
              "      display:flex;\n",
              "      gap: 12px;\n",
              "    }\n",
              "\n",
              "    .colab-df-convert {\n",
              "      background-color: #E8F0FE;\n",
              "      border: none;\n",
              "      border-radius: 50%;\n",
              "      cursor: pointer;\n",
              "      display: none;\n",
              "      fill: #1967D2;\n",
              "      height: 32px;\n",
              "      padding: 0 0 0 0;\n",
              "      width: 32px;\n",
              "    }\n",
              "\n",
              "    .colab-df-convert:hover {\n",
              "      background-color: #E2EBFA;\n",
              "      box-shadow: 0px 1px 2px rgba(60, 64, 67, 0.3), 0px 1px 3px 1px rgba(60, 64, 67, 0.15);\n",
              "      fill: #174EA6;\n",
              "    }\n",
              "\n",
              "    .colab-df-buttons div {\n",
              "      margin-bottom: 4px;\n",
              "    }\n",
              "\n",
              "    [theme=dark] .colab-df-convert {\n",
              "      background-color: #3B4455;\n",
              "      fill: #D2E3FC;\n",
              "    }\n",
              "\n",
              "    [theme=dark] .colab-df-convert:hover {\n",
              "      background-color: #434B5C;\n",
              "      box-shadow: 0px 1px 3px 1px rgba(0, 0, 0, 0.15);\n",
              "      filter: drop-shadow(0px 1px 2px rgba(0, 0, 0, 0.3));\n",
              "      fill: #FFFFFF;\n",
              "    }\n",
              "  </style>\n",
              "\n",
              "    <script>\n",
              "      const buttonEl =\n",
              "        document.querySelector('#df-43456673-16b2-4830-8214-f40a4da91e82 button.colab-df-convert');\n",
              "      buttonEl.style.display =\n",
              "        google.colab.kernel.accessAllowed ? 'block' : 'none';\n",
              "\n",
              "      async function convertToInteractive(key) {\n",
              "        const element = document.querySelector('#df-43456673-16b2-4830-8214-f40a4da91e82');\n",
              "        const dataTable =\n",
              "          await google.colab.kernel.invokeFunction('convertToInteractive',\n",
              "                                                    [key], {});\n",
              "        if (!dataTable) return;\n",
              "\n",
              "        const docLinkHtml = 'Like what you see? Visit the ' +\n",
              "          '<a target=\"_blank\" href=https://colab.research.google.com/notebooks/data_table.ipynb>data table notebook</a>'\n",
              "          + ' to learn more about interactive tables.';\n",
              "        element.innerHTML = '';\n",
              "        dataTable['output_type'] = 'display_data';\n",
              "        await google.colab.output.renderOutput(dataTable, element);\n",
              "        const docLink = document.createElement('div');\n",
              "        docLink.innerHTML = docLinkHtml;\n",
              "        element.appendChild(docLink);\n",
              "      }\n",
              "    </script>\n",
              "  </div>\n",
              "\n",
              "\n",
              "<div id=\"df-288c3aa3-8176-4603-8f99-439a43213830\">\n",
              "  <button class=\"colab-df-quickchart\" onclick=\"quickchart('df-288c3aa3-8176-4603-8f99-439a43213830')\"\n",
              "            title=\"Suggest charts\"\n",
              "            style=\"display:none;\">\n",
              "\n",
              "<svg xmlns=\"http://www.w3.org/2000/svg\" height=\"24px\"viewBox=\"0 0 24 24\"\n",
              "     width=\"24px\">\n",
              "    <g>\n",
              "        <path d=\"M19 3H5c-1.1 0-2 .9-2 2v14c0 1.1.9 2 2 2h14c1.1 0 2-.9 2-2V5c0-1.1-.9-2-2-2zM9 17H7v-7h2v7zm4 0h-2V7h2v10zm4 0h-2v-4h2v4z\"/>\n",
              "    </g>\n",
              "</svg>\n",
              "  </button>\n",
              "\n",
              "<style>\n",
              "  .colab-df-quickchart {\n",
              "      --bg-color: #E8F0FE;\n",
              "      --fill-color: #1967D2;\n",
              "      --hover-bg-color: #E2EBFA;\n",
              "      --hover-fill-color: #174EA6;\n",
              "      --disabled-fill-color: #AAA;\n",
              "      --disabled-bg-color: #DDD;\n",
              "  }\n",
              "\n",
              "  [theme=dark] .colab-df-quickchart {\n",
              "      --bg-color: #3B4455;\n",
              "      --fill-color: #D2E3FC;\n",
              "      --hover-bg-color: #434B5C;\n",
              "      --hover-fill-color: #FFFFFF;\n",
              "      --disabled-bg-color: #3B4455;\n",
              "      --disabled-fill-color: #666;\n",
              "  }\n",
              "\n",
              "  .colab-df-quickchart {\n",
              "    background-color: var(--bg-color);\n",
              "    border: none;\n",
              "    border-radius: 50%;\n",
              "    cursor: pointer;\n",
              "    display: none;\n",
              "    fill: var(--fill-color);\n",
              "    height: 32px;\n",
              "    padding: 0;\n",
              "    width: 32px;\n",
              "  }\n",
              "\n",
              "  .colab-df-quickchart:hover {\n",
              "    background-color: var(--hover-bg-color);\n",
              "    box-shadow: 0 1px 2px rgba(60, 64, 67, 0.3), 0 1px 3px 1px rgba(60, 64, 67, 0.15);\n",
              "    fill: var(--button-hover-fill-color);\n",
              "  }\n",
              "\n",
              "  .colab-df-quickchart-complete:disabled,\n",
              "  .colab-df-quickchart-complete:disabled:hover {\n",
              "    background-color: var(--disabled-bg-color);\n",
              "    fill: var(--disabled-fill-color);\n",
              "    box-shadow: none;\n",
              "  }\n",
              "\n",
              "  .colab-df-spinner {\n",
              "    border: 2px solid var(--fill-color);\n",
              "    border-color: transparent;\n",
              "    border-bottom-color: var(--fill-color);\n",
              "    animation:\n",
              "      spin 1s steps(1) infinite;\n",
              "  }\n",
              "\n",
              "  @keyframes spin {\n",
              "    0% {\n",
              "      border-color: transparent;\n",
              "      border-bottom-color: var(--fill-color);\n",
              "      border-left-color: var(--fill-color);\n",
              "    }\n",
              "    20% {\n",
              "      border-color: transparent;\n",
              "      border-left-color: var(--fill-color);\n",
              "      border-top-color: var(--fill-color);\n",
              "    }\n",
              "    30% {\n",
              "      border-color: transparent;\n",
              "      border-left-color: var(--fill-color);\n",
              "      border-top-color: var(--fill-color);\n",
              "      border-right-color: var(--fill-color);\n",
              "    }\n",
              "    40% {\n",
              "      border-color: transparent;\n",
              "      border-right-color: var(--fill-color);\n",
              "      border-top-color: var(--fill-color);\n",
              "    }\n",
              "    60% {\n",
              "      border-color: transparent;\n",
              "      border-right-color: var(--fill-color);\n",
              "    }\n",
              "    80% {\n",
              "      border-color: transparent;\n",
              "      border-right-color: var(--fill-color);\n",
              "      border-bottom-color: var(--fill-color);\n",
              "    }\n",
              "    90% {\n",
              "      border-color: transparent;\n",
              "      border-bottom-color: var(--fill-color);\n",
              "    }\n",
              "  }\n",
              "</style>\n",
              "\n",
              "  <script>\n",
              "    async function quickchart(key) {\n",
              "      const quickchartButtonEl =\n",
              "        document.querySelector('#' + key + ' button');\n",
              "      quickchartButtonEl.disabled = true;  // To prevent multiple clicks.\n",
              "      quickchartButtonEl.classList.add('colab-df-spinner');\n",
              "      try {\n",
              "        const charts = await google.colab.kernel.invokeFunction(\n",
              "            'suggestCharts', [key], {});\n",
              "      } catch (error) {\n",
              "        console.error('Error during call to suggestCharts:', error);\n",
              "      }\n",
              "      quickchartButtonEl.classList.remove('colab-df-spinner');\n",
              "      quickchartButtonEl.classList.add('colab-df-quickchart-complete');\n",
              "    }\n",
              "    (() => {\n",
              "      let quickchartButtonEl =\n",
              "        document.querySelector('#df-288c3aa3-8176-4603-8f99-439a43213830 button');\n",
              "      quickchartButtonEl.style.display =\n",
              "        google.colab.kernel.accessAllowed ? 'block' : 'none';\n",
              "    })();\n",
              "  </script>\n",
              "</div>\n",
              "\n",
              "    </div>\n",
              "  </div>\n"
            ],
            "application/vnd.google.colaboratory.intrinsic+json": {
              "type": "dataframe",
              "summary": "{\n  \"name\": \"df\",\n  \"rows\": 8,\n  \"fields\": [\n    {\n      \"column\": \"Related Employee\",\n      \"properties\": {\n        \"dtype\": \"number\",\n        \"std\": 42342.29894608959,\n        \"min\": 6288.0,\n        \"max\": 132007.0,\n        \"num_unique_values\": 8,\n        \"samples\": [\n          74845.96215012722,\n          56872.0,\n          6288.0\n        ],\n        \"semantic_type\": \"\",\n        \"description\": \"\"\n      }\n    }\n  ]\n}"
            }
          },
          "metadata": {},
          "execution_count": 10
        }
      ]
    },
    {
      "cell_type": "code",
      "source": [
        "# Calculate the percentage of missing values for each column\n",
        "x = df.isnull().sum()\n",
        "percent_missing = x / len(df) * 100\n",
        "\n",
        "# Plot the missing values as a bar chart\n",
        "percent_missing.plot(kind=\"bar\",\n",
        "                    stacked=True,\n",
        "                    title=\"Percentage of Missing Values per Feature\",\n",
        "                    xlabel=\"Features\",\n",
        "                    ylabel=\"Percentage of Missing Values\",\n",
        "                    color='#2cebf4',\n",
        "                    width=0.9)"
      ],
      "metadata": {
        "colab": {
          "base_uri": "https://localhost:8080/",
          "height": 695
        },
        "id": "3MJ85V6StHml",
        "outputId": "cf52caf5-d9ff-45bb-a237-1bd0c3961bd7"
      },
      "execution_count": 11,
      "outputs": [
        {
          "output_type": "execute_result",
          "data": {
            "text/plain": [
              "<Axes: title={'center': 'Percentage of Missing Values per Feature'}, xlabel='Features', ylabel='Percentage of Missing Values'>"
            ]
          },
          "metadata": {},
          "execution_count": 11
        },
        {
          "output_type": "display_data",
          "data": {
            "text/plain": [
              "<Figure size 640x480 with 1 Axes>"
            ],
            "image/png": "[encoded data removed]"
          },
          "metadata": {}
        }
      ]
    },
    {
      "cell_type": "code",
      "source": [
        "# Get the column names of the DataFrame using the columns attribute\n",
        "df.columns"
      ],
      "metadata": {
        "colab": {
          "base_uri": "https://localhost:8080/"
        },
        "id": "twkJVUxxtsJf",
        "outputId": "f8f90407-8e73-4015-b743-c162b297e28b"
      },
      "execution_count": 33,
      "outputs": [
        {
          "output_type": "execute_result",
          "data": {
            "text/plain": [
              "Index(['EmplID - Employee Name', 'Employee - EmplID - Job Title', 'Terminal',\n",
              "       'Workforce Callout Number', 'Call out Reasons', 'Related Employee',\n",
              "       'Shift', 'Date Created'],\n",
              "      dtype='object')"
            ]
          },
          "metadata": {},
          "execution_count": 33
        }
      ]
    },
    {
      "cell_type": "markdown",
      "source": [
        "# **Data preprocessing**"
      ],
      "metadata": {
        "id": "8pK8nX5xuKDh"
      }
    },
    {
      "cell_type": "code",
      "source": [
        "# Convert the 'Date Created' column to datetime objects using pd.to_datetime()\n",
        "df['Date Created'] = pd.to_datetime(df['Date Created'])\n",
        "# Extract the year and month from the 'Date Created' column\n",
        "df['Year'] = df['Date Created'].dt.year\n",
        "df['Month'] = df['Date Created'].dt.month"
      ],
      "metadata": {
        "id": "m2WjEEgrD1Zw"
      },
      "execution_count": 34,
      "outputs": []
    },
    {
      "cell_type": "code",
      "source": [
        "#Checking the Dtype after converting to datetime\n",
        "df.info()"
      ],
      "metadata": {
        "colab": {
          "base_uri": "https://localhost:8080/"
        },
        "id": "Xhal22qaEbKM",
        "outputId": "09cda737-8d4f-4fa1-d9c2-84fcd5f8190f"
      },
      "execution_count": 35,
      "outputs": [
        {
          "output_type": "stream",
          "name": "stdout",
          "text": [
            "<class 'pandas.core.frame.DataFrame'>\n",
            "RangeIndex: 6288 entries, 0 to 6287\n",
            "Data columns (total 10 columns):\n",
            " #   Column                         Non-Null Count  Dtype         \n",
            "---  ------                         --------------  -----         \n",
            " 0   EmplID - Employee Name         6288 non-null   object        \n",
            " 1   Employee - EmplID - Job Title  6288 non-null   object        \n",
            " 2   Terminal                       6288 non-null   object        \n",
            " 3   Workforce Callout Number       6283 non-null   object        \n",
            " 4   Call out Reasons               6288 non-null   object        \n",
            " 5   Related Employee               6288 non-null   int64         \n",
            " 6   Shift                          6288 non-null   object        \n",
            " 7   Date Created                   6288 non-null   datetime64[ns]\n",
            " 8   Year                           6288 non-null   int64         \n",
            " 9   Month                          6288 non-null   int64         \n",
            "dtypes: datetime64[ns](1), int64(3), object(6)\n",
            "memory usage: 491.4+ KB\n"
          ]
        }
      ]
    },
    {
      "cell_type": "markdown",
      "source": [
        "Now we are removing irrelevant call-out reason related rows from our dataframe for quality analysis"
      ],
      "metadata": {
        "id": "ZAvp3k-_Y9yo"
      }
    },
    {
      "cell_type": "code",
      "source": [
        "# Define the list of relevant call-out reasons\n",
        "relevant_reasons = [\n",
        "    \"Unscheduled Sick Leave\",\n",
        "    \"Annual Leave - Unscheduled\",\n",
        "    \"Unscheduled sick leave for 3 or more days\"\n",
        "]\n",
        "\n",
        "# Filter the DataFrame to keep only rows with relevant call-out reasons\n",
        "df = df[df['Call out Reasons'].isin(relevant_reasons)]\n",
        "\n",
        "# Now filtered_df contains only the rows with relevant call-out reasons"
      ],
      "metadata": {
        "id": "oOLySR2eYvR7"
      },
      "execution_count": 36,
      "outputs": []
    },
    {
      "cell_type": "code",
      "source": [
        "# Remove duplicate rows from the DataFrame using drop_duplicates() and inplace=True\n",
        "df.drop_duplicates(inplace=True)"
      ],
      "metadata": {
        "id": "iIZDW6sSt2UV"
      },
      "execution_count": 37,
      "outputs": []
    },
    {
      "cell_type": "code",
      "source": [
        "#After dropping duplicate values checking the duplicate count\n",
        "df.duplicated().sum()"
      ],
      "metadata": {
        "colab": {
          "base_uri": "https://localhost:8080/"
        },
        "id": "LovrXZ7gvCfg",
        "outputId": "44624835-0567-475e-e738-8bd8fb9ad6c2"
      },
      "execution_count": 38,
      "outputs": [
        {
          "output_type": "execute_result",
          "data": {
            "text/plain": [
              "0"
            ]
          },
          "metadata": {},
          "execution_count": 38
        }
      ]
    },
    {
      "cell_type": "code",
      "source": [
        "#Only for Workforce Callout Number column 5 missing values are present so dropping those rows for accurate analysis\n",
        "df.dropna(subset='Workforce Callout Number',inplace=True)"
      ],
      "metadata": {
        "id": "l6iuJQ4Bvnhd"
      },
      "execution_count": 39,
      "outputs": []
    },
    {
      "cell_type": "code",
      "source": [
        "#After dropping null values checking again to verify the null value count\n",
        "df.isnull().sum()"
      ],
      "metadata": {
        "colab": {
          "base_uri": "https://localhost:8080/"
        },
        "id": "rUg-IJ8ov0TG",
        "outputId": "8e06ca93-b939-40f3-d7eb-4c1052f01bcd"
      },
      "execution_count": 40,
      "outputs": [
        {
          "output_type": "execute_result",
          "data": {
            "text/plain": [
              "EmplID - Employee Name           0\n",
              "Employee - EmplID - Job Title    0\n",
              "Terminal                         0\n",
              "Workforce Callout Number         0\n",
              "Call out Reasons                 0\n",
              "Related Employee                 0\n",
              "Shift                            0\n",
              "Date Created                     0\n",
              "Year                             0\n",
              "Month                            0\n",
              "dtype: int64"
            ]
          },
          "metadata": {},
          "execution_count": 40
        }
      ]
    },
    {
      "cell_type": "code",
      "source": [
        "#Checking the 'Employee - EmplID - Job Title' column as there are repeated categories are present\n",
        "df['Employee - EmplID - Job Title']"
      ],
      "metadata": {
        "colab": {
          "base_uri": "https://localhost:8080/"
        },
        "id": "Y7C1GHD6kQ6u",
        "outputId": "ced70df3-11f9-4214-9ed4-e57a55eae41b"
      },
      "execution_count": 41,
      "outputs": [
        {
          "output_type": "execute_result",
          "data": {
            "text/plain": [
              "0                Bus Attendant\n",
              "1       Motor Vehicle Operator\n",
              "3                BUS ATTENDANT\n",
              "4       MOTOR VEHICLE OPERATOR\n",
              "5                Bus Attendant\n",
              "                 ...          \n",
              "6272             BUS ATTENDANT\n",
              "6276             Bus Attendant\n",
              "6280    MOTOR VEHICLE OPERATOR\n",
              "6284             Bus Attendant\n",
              "6287    MOTOR VEHICLE OPERATOR\n",
              "Name: Employee - EmplID - Job Title, Length: 5190, dtype: object"
            ]
          },
          "metadata": {},
          "execution_count": 41
        }
      ]
    },
    {
      "cell_type": "markdown",
      "source": [
        "To rectify and enhance the 'Employee - EmplID - Job Title' column categories according to the provided information (where \"Bus Attendant\" and \"Motor Vehicle Operator\" are the main unique categories), we'll standardize the formatting by converting all values to title case. This will ensure consistency and avoid confusion in our analysis."
      ],
      "metadata": {
        "id": "SJYBP-LwklWH"
      }
    },
    {
      "cell_type": "code",
      "source": [
        "# Convert 'Employee - EmplID - Job Title' column to lowercase and remove leading/trailing whitespace\n",
        "df['Employee - EmplID - Job Title'] = df['Employee - EmplID - Job Title'].str.lower().str.strip()\n",
        "\n",
        "# Display unique values to identify inconsistencies\n",
        "print(df['Employee - EmplID - Job Title'].unique())\n"
      ],
      "metadata": {
        "colab": {
          "base_uri": "https://localhost:8080/"
        },
        "id": "sQUDhlySjNn5",
        "outputId": "9afa9170-9197-41e0-dff2-a67919df996a"
      },
      "execution_count": 20,
      "outputs": [
        {
          "output_type": "stream",
          "name": "stdout",
          "text": [
            "['bus attendant' 'motor vehicle operator']\n"
          ]
        }
      ]
    },
    {
      "cell_type": "markdown",
      "source": [
        "# Univariate Analysis"
      ],
      "metadata": {
        "id": "q7DE-3amWltj"
      }
    },
    {
      "cell_type": "markdown",
      "source": [
        "### Call-out Reason Analysis"
      ],
      "metadata": {
        "id": "lPS8Qt_JVZAQ"
      }
    },
    {
      "cell_type": "code",
      "source": [
        "# Count the occurrences of each unique value in the 'Call out Reasons' column using value_counts()\n",
        "df['Call out Reasons'].value_counts()"
      ],
      "metadata": {
        "colab": {
          "base_uri": "https://localhost:8080/"
        },
        "id": "tZGYV2JaxTJl",
        "outputId": "802b3bc6-8716-4e48-f8a3-974f6bb1afae"
      },
      "execution_count": 21,
      "outputs": [
        {
          "output_type": "execute_result",
          "data": {
            "text/plain": [
              "Unscheduled Sick Leave                       4119\n",
              "Annual Leave - Unscheduled                    826\n",
              "Unscheduled sick leave for 3 or more days     245\n",
              "Name: Call out Reasons, dtype: int64"
            ]
          },
          "metadata": {},
          "execution_count": 21
        }
      ]
    },
    {
      "cell_type": "code",
      "source": [
        "# Count the occurrences of each unique value in the 'Call out Reasons' column using value_counts()\n",
        "df['Call out Reasons'].value_counts().plot(kind=\"bar\")\n",
        "\n",
        "# Set the title and labels for the chart\n",
        "plt.title(\"Call out Reasons Distribution\")\n",
        "plt.xlabel(\"Call out Reason Category\")\n",
        "plt.ylabel(\"Call out Reason Category Count\")\n",
        "\n",
        "# Add a grid to the chart for clarity\n",
        "plt.grid(axis='y')"
      ],
      "metadata": {
        "colab": {
          "base_uri": "https://localhost:8080/",
          "height": 754
        },
        "outputId": "5429b9c9-02cf-44b3-f929-905028d1b0fd",
        "id": "5_Cq-QfNyYWm"
      },
      "execution_count": 22,
      "outputs": [
        {
          "output_type": "display_data",
          "data": {
            "text/plain": [
              "<Figure size 640x480 with 1 Axes>"
            ],
            "image/png": "[encoded data removed]"
          },
          "metadata": {}
        }
      ]
    },
    {
      "cell_type": "markdown",
      "source": [
        "### **Insight:**\n",
        "\n",
        "The Call Out Reason Category bar chart reveals that Unscheduled Sick Leave has a significantly higher count compared to other reasons. This finding suggests that a substantial number of employees are calling out sick without prior notice."
      ],
      "metadata": {
        "id": "ym1RZ9sjllIq"
      }
    },
    {
      "cell_type": "markdown",
      "source": [
        "### Job-Title Distribution"
      ],
      "metadata": {
        "id": "x19SRA2pWrPe"
      }
    },
    {
      "cell_type": "code",
      "source": [
        "# Count the occurrences of each unique value in the 'Employee - EmplID - Job Title' column using value_counts()\n",
        "df['Employee - EmplID - Job Title'].value_counts()"
      ],
      "metadata": {
        "colab": {
          "base_uri": "https://localhost:8080/"
        },
        "id": "egtC9CBixs6A",
        "outputId": "6fada441-6520-426d-a58c-bb1f0cc659fd"
      },
      "execution_count": 23,
      "outputs": [
        {
          "output_type": "execute_result",
          "data": {
            "text/plain": [
              "bus attendant             3414\n",
              "motor vehicle operator    1776\n",
              "Name: Employee - EmplID - Job Title, dtype: int64"
            ]
          },
          "metadata": {},
          "execution_count": 23
        }
      ]
    },
    {
      "cell_type": "code",
      "source": [
        "# Count the occurrences of each unique value in the 'Employee - EmplID - Job Title' column using value_counts()\n",
        "df['Employee - EmplID - Job Title'].value_counts().plot(kind=\"bar\")\n",
        "\n",
        "# Set the title and labels for the chart\n",
        "plt.xlabel(\"Job Title Category\")\n",
        "plt.ylabel(\"Job Title Count\")\n",
        "plt.title(\"Job Title Distributions\")"
      ],
      "metadata": {
        "colab": {
          "base_uri": "https://localhost:8080/",
          "height": 636
        },
        "outputId": "2bd62ae1-745e-43d3-f25a-9133b267c9d6",
        "id": "oZgfT8bey17F"
      },
      "execution_count": 24,
      "outputs": [
        {
          "output_type": "execute_result",
          "data": {
            "text/plain": [
              "Text(0.5, 1.0, 'Job Title Distributions')"
            ]
          },
          "metadata": {},
          "execution_count": 24
        },
        {
          "output_type": "display_data",
          "data": {
            "text/plain": [
              "<Figure size 640x480 with 1 Axes>"
            ],
            "image/png": "[encoded data removed]"
          },
          "metadata": {}
        }
      ]
    },
    {
      "cell_type": "markdown",
      "source": [
        "### **Insight:**\n",
        "\n",
        "The job title distribution shows a significant disparity between the number of Bus Attendants and Motor Vehicle Operators. Bus Attendants make up the majority of the workforce, with over twice the number of employees compared to Motor Vehicle Operators."
      ],
      "metadata": {
        "id": "b1oKLO8hm_SX"
      }
    },
    {
      "cell_type": "markdown",
      "source": [
        "### Shift Distribution"
      ],
      "metadata": {
        "id": "9FBDzAeDZtg5"
      }
    },
    {
      "cell_type": "code",
      "source": [
        "# Count the occurrences of each unique value in the 'Shift' column using value_counts()\n",
        "df['Shift'].value_counts()"
      ],
      "metadata": {
        "colab": {
          "base_uri": "https://localhost:8080/"
        },
        "id": "_YGMs1euyBAu",
        "outputId": "ba53cee3-d206-44e0-8f00-8ab8b0ee4050"
      },
      "execution_count": null,
      "outputs": [
        {
          "output_type": "execute_result",
          "data": {
            "text/plain": [
              "AM and PM    3018\n",
              "PM           1480\n",
              "AM            692\n",
              "Name: Shift, dtype: int64"
            ]
          },
          "metadata": {},
          "execution_count": 42
        }
      ]
    },
    {
      "cell_type": "code",
      "source": [
        "# Count the occurrences of each unique value in the 'Shift' column using value_counts()\n",
        "df['Shift'].value_counts().plot(kind=\"bar\")\n",
        "\n",
        "# Set the title and labels for the chart\n",
        "plt.title(\"Shift Distribution\")\n",
        "plt.xlabel(\"Shift\")\n",
        "plt.ylabel(\"Number of Employees\")"
      ],
      "metadata": {
        "colab": {
          "base_uri": "https://localhost:8080/",
          "height": 553
        },
        "id": "y_0SQPMYzp-b",
        "outputId": "4484b7b0-5571-4bfc-879d-6cba9841cba3"
      },
      "execution_count": null,
      "outputs": [
        {
          "output_type": "execute_result",
          "data": {
            "text/plain": [
              "Text(0, 0.5, 'Number of Employees')"
            ]
          },
          "metadata": {},
          "execution_count": 43
        },
        {
          "output_type": "display_data",
          "data": {
            "text/plain": [
              "<Figure size 640x480 with 1 Axes>"
            ],
            "image/png": "[encoded data removed]"
          },
          "metadata": {}
        }
      ]
    },
    {
      "cell_type": "markdown",
      "source": [
        "### **Insight:**\n",
        "\n",
        "The bar chart reveals a striking preference for the AM and PM mixed shift, with a significantly higher count compared to the single PM and single AM shifts."
      ],
      "metadata": {
        "id": "KHxZqRc5n6-M"
      }
    },
    {
      "cell_type": "markdown",
      "source": [
        "## Bi-Variate Analysis"
      ],
      "metadata": {
        "id": "ShX6yhbucWlY"
      }
    },
    {
      "cell_type": "markdown",
      "source": [
        "### Employees with the Highest Number of Call-Outs"
      ],
      "metadata": {
        "id": "QSyZaJ7QaUyl"
      }
    },
    {
      "cell_type": "code",
      "source": [
        "# Calculate the frequency of call-outs for each employee\n",
        "Callout_count = df.groupby(\"EmplID - Employee Name\")[\"Workforce Callout Number\"].count().reset_index()\n",
        "\n",
        "# Sort the results in descending order of call-out count\n",
        "Callout_count.sort_values(\"Workforce Callout Number\", ascending=False, inplace=True)\n",
        "\n",
        "# Rename the columns for clarity\n",
        "Callout_count.columns = ['EmplID', 'Callout Count']\n",
        "\n",
        "# Display the top 10 employees with the highest call-out counts\n",
        "Callout_count.head(10)"
      ],
      "metadata": {
        "colab": {
          "base_uri": "https://localhost:8080/",
          "height": 363
        },
        "id": "YLzM66CwIn0G",
        "outputId": "fc518471-204a-41f8-a2ab-b9e22cfe92f4"
      },
      "execution_count": 42,
      "outputs": [
        {
          "output_type": "execute_result",
          "data": {
            "text/plain": [
              "                    EmplID  Callout Count\n",
              "89       Poston, Britannia            188\n",
              "62      Johnson, Rolisha A            176\n",
              "104    Thompson, Tiffany D            153\n",
              "13         Binns, Paulette            125\n",
              "100    Stevens, Jermaine B            121\n",
              "66          Kevin Williams            118\n",
              "52       Hopkins, Latoya D            115\n",
              "37        Eleby, Cynthia E            114\n",
              "6           Artease Pimble            114\n",
              "115  Williams, Genevieve K            103"
            ],
            "text/html": [
              "\n",
              "  <div id=\"df-e970e194-bc36-4686-9f6d-b67bd253bea0\" class=\"colab-df-container\">\n",
              "    <div>\n",
              "<style scoped>\n",
              "    .dataframe tbody tr th:only-of-type {\n",
              "        vertical-align: middle;\n",
              "    }\n",
              "\n",
              "    .dataframe tbody tr th {\n",
              "        vertical-align: top;\n",
              "    }\n",
              "\n",
              "    .dataframe thead th {\n",
              "        text-align: right;\n",
              "    }\n",
              "</style>\n",
              "<table border=\"1\" class=\"dataframe\">\n",
              "  <thead>\n",
              "    <tr style=\"text-align: right;\">\n",
              "      <th></th>\n",
              "      <th>EmplID</th>\n",
              "      <th>Callout Count</th>\n",
              "    </tr>\n",
              "  </thead>\n",
              "  <tbody>\n",
              "    <tr>\n",
              "      <th>89</th>\n",
              "      <td>Poston, Britannia</td>\n",
              "      <td>188</td>\n",
              "    </tr>\n",
              "    <tr>\n",
              "      <th>62</th>\n",
              "      <td>Johnson, Rolisha A</td>\n",
              "      <td>176</td>\n",
              "    </tr>\n",
              "    <tr>\n",
              "      <th>104</th>\n",
              "      <td>Thompson, Tiffany D</td>\n",
              "      <td>153</td>\n",
              "    </tr>\n",
              "    <tr>\n",
              "      <th>13</th>\n",
              "      <td>Binns, Paulette</td>\n",
              "      <td>125</td>\n",
              "    </tr>\n",
              "    <tr>\n",
              "      <th>100</th>\n",
              "      <td>Stevens, Jermaine B</td>\n",
              "      <td>121</td>\n",
              "    </tr>\n",
              "    <tr>\n",
              "      <th>66</th>\n",
              "      <td>Kevin Williams</td>\n",
              "      <td>118</td>\n",
              "    </tr>\n",
              "    <tr>\n",
              "      <th>52</th>\n",
              "      <td>Hopkins, Latoya D</td>\n",
              "      <td>115</td>\n",
              "    </tr>\n",
              "    <tr>\n",
              "      <th>37</th>\n",
              "      <td>Eleby, Cynthia E</td>\n",
              "      <td>114</td>\n",
              "    </tr>\n",
              "    <tr>\n",
              "      <th>6</th>\n",
              "      <td>Artease Pimble</td>\n",
              "      <td>114</td>\n",
              "    </tr>\n",
              "    <tr>\n",
              "      <th>115</th>\n",
              "      <td>Williams, Genevieve K</td>\n",
              "      <td>103</td>\n",
              "    </tr>\n",
              "  </tbody>\n",
              "</table>\n",
              "</div>\n",
              "    <div class=\"colab-df-buttons\">\n",
              "\n",
              "  <div class=\"colab-df-container\">\n",
              "    <button class=\"colab-df-convert\" onclick=\"convertToInteractive('df-e970e194-bc36-4686-9f6d-b67bd253bea0')\"\n",
              "            title=\"Convert this dataframe to an interactive table.\"\n",
              "            style=\"display:none;\">\n",
              "\n",
              "  <svg xmlns=\"http://www.w3.org/2000/svg\" height=\"24px\" viewBox=\"0 -960 960 960\">\n",
              "    <path d=\"M120-120v-720h720v720H120Zm60-500h600v-160H180v160Zm220 220h160v-160H400v160Zm0 220h160v-160H400v160ZM180-400h160v-160H180v160Zm440 0h160v-160H620v160ZM180-180h160v-160H180v160Zm440 0h160v-160H620v160Z\"/>\n",
              "  </svg>\n",
              "    </button>\n",
              "\n",
              "  <style>\n",
              "    .colab-df-container {\n",
              "      display:flex;\n",
              "      gap: 12px;\n",
              "    }\n",
              "\n",
              "    .colab-df-convert {\n",
              "      background-color: #E8F0FE;\n",
              "      border: none;\n",
              "      border-radius: 50%;\n",
              "      cursor: pointer;\n",
              "      display: none;\n",
              "      fill: #1967D2;\n",
              "      height: 32px;\n",
              "      padding: 0 0 0 0;\n",
              "      width: 32px;\n",
              "    }\n",
              "\n",
              "    .colab-df-convert:hover {\n",
              "      background-color: #E2EBFA;\n",
              "      box-shadow: 0px 1px 2px rgba(60, 64, 67, 0.3), 0px 1px 3px 1px rgba(60, 64, 67, 0.15);\n",
              "      fill: #174EA6;\n",
              "    }\n",
              "\n",
              "    .colab-df-buttons div {\n",
              "      margin-bottom: 4px;\n",
              "    }\n",
              "\n",
              "    [theme=dark] .colab-df-convert {\n",
              "      background-color: #3B4455;\n",
              "      fill: #D2E3FC;\n",
              "    }\n",
              "\n",
              "    [theme=dark] .colab-df-convert:hover {\n",
              "      background-color: #434B5C;\n",
              "      box-shadow: 0px 1px 3px 1px rgba(0, 0, 0, 0.15);\n",
              "      filter: drop-shadow(0px 1px 2px rgba(0, 0, 0, 0.3));\n",
              "      fill: #FFFFFF;\n",
              "    }\n",
              "  </style>\n",
              "\n",
              "    <script>\n",
              "      const buttonEl =\n",
              "        document.querySelector('#df-e970e194-bc36-4686-9f6d-b67bd253bea0 button.colab-df-convert');\n",
              "      buttonEl.style.display =\n",
              "        google.colab.kernel.accessAllowed ? 'block' : 'none';\n",
              "\n",
              "      async function convertToInteractive(key) {\n",
              "        const element = document.querySelector('#df-e970e194-bc36-4686-9f6d-b67bd253bea0');\n",
              "        const dataTable =\n",
              "          await google.colab.kernel.invokeFunction('convertToInteractive',\n",
              "                                                    [key], {});\n",
              "        if (!dataTable) return;\n",
              "\n",
              "        const docLinkHtml = 'Like what you see? Visit the ' +\n",
              "          '<a target=\"_blank\" href=https://colab.research.google.com/notebooks/data_table.ipynb>data table notebook</a>'\n",
              "          + ' to learn more about interactive tables.';\n",
              "        element.innerHTML = '';\n",
              "        dataTable['output_type'] = 'display_data';\n",
              "        await google.colab.output.renderOutput(dataTable, element);\n",
              "        const docLink = document.createElement('div');\n",
              "        docLink.innerHTML = docLinkHtml;\n",
              "        element.appendChild(docLink);\n",
              "      }\n",
              "    </script>\n",
              "  </div>\n",
              "\n",
              "\n",
              "<div id=\"df-10ad6454-cf0e-4ce2-9799-7408e9069793\">\n",
              "  <button class=\"colab-df-quickchart\" onclick=\"quickchart('df-10ad6454-cf0e-4ce2-9799-7408e9069793')\"\n",
              "            title=\"Suggest charts\"\n",
              "            style=\"display:none;\">\n",
              "\n",
              "<svg xmlns=\"http://www.w3.org/2000/svg\" height=\"24px\"viewBox=\"0 0 24 24\"\n",
              "     width=\"24px\">\n",
              "    <g>\n",
              "        <path d=\"M19 3H5c-1.1 0-2 .9-2 2v14c0 1.1.9 2 2 2h14c1.1 0 2-.9 2-2V5c0-1.1-.9-2-2-2zM9 17H7v-7h2v7zm4 0h-2V7h2v10zm4 0h-2v-4h2v4z\"/>\n",
              "    </g>\n",
              "</svg>\n",
              "  </button>\n",
              "\n",
              "<style>\n",
              "  .colab-df-quickchart {\n",
              "      --bg-color: #E8F0FE;\n",
              "      --fill-color: #1967D2;\n",
              "      --hover-bg-color: #E2EBFA;\n",
              "      --hover-fill-color: #174EA6;\n",
              "      --disabled-fill-color: #AAA;\n",
              "      --disabled-bg-color: #DDD;\n",
              "  }\n",
              "\n",
              "  [theme=dark] .colab-df-quickchart {\n",
              "      --bg-color: #3B4455;\n",
              "      --fill-color: #D2E3FC;\n",
              "      --hover-bg-color: #434B5C;\n",
              "      --hover-fill-color: #FFFFFF;\n",
              "      --disabled-bg-color: #3B4455;\n",
              "      --disabled-fill-color: #666;\n",
              "  }\n",
              "\n",
              "  .colab-df-quickchart {\n",
              "    background-color: var(--bg-color);\n",
              "    border: none;\n",
              "    border-radius: 50%;\n",
              "    cursor: pointer;\n",
              "    display: none;\n",
              "    fill: var(--fill-color);\n",
              "    height: 32px;\n",
              "    padding: 0;\n",
              "    width: 32px;\n",
              "  }\n",
              "\n",
              "  .colab-df-quickchart:hover {\n",
              "    background-color: var(--hover-bg-color);\n",
              "    box-shadow: 0 1px 2px rgba(60, 64, 67, 0.3), 0 1px 3px 1px rgba(60, 64, 67, 0.15);\n",
              "    fill: var(--button-hover-fill-color);\n",
              "  }\n",
              "\n",
              "  .colab-df-quickchart-complete:disabled,\n",
              "  .colab-df-quickchart-complete:disabled:hover {\n",
              "    background-color: var(--disabled-bg-color);\n",
              "    fill: var(--disabled-fill-color);\n",
              "    box-shadow: none;\n",
              "  }\n",
              "\n",
              "  .colab-df-spinner {\n",
              "    border: 2px solid var(--fill-color);\n",
              "    border-color: transparent;\n",
              "    border-bottom-color: var(--fill-color);\n",
              "    animation:\n",
              "      spin 1s steps(1) infinite;\n",
              "  }\n",
              "\n",
              "  @keyframes spin {\n",
              "    0% {\n",
              "      border-color: transparent;\n",
              "      border-bottom-color: var(--fill-color);\n",
              "      border-left-color: var(--fill-color);\n",
              "    }\n",
              "    20% {\n",
              "      border-color: transparent;\n",
              "      border-left-color: var(--fill-color);\n",
              "      border-top-color: var(--fill-color);\n",
              "    }\n",
              "    30% {\n",
              "      border-color: transparent;\n",
              "      border-left-color: var(--fill-color);\n",
              "      border-top-color: var(--fill-color);\n",
              "      border-right-color: var(--fill-color);\n",
              "    }\n",
              "    40% {\n",
              "      border-color: transparent;\n",
              "      border-right-color: var(--fill-color);\n",
              "      border-top-color: var(--fill-color);\n",
              "    }\n",
              "    60% {\n",
              "      border-color: transparent;\n",
              "      border-right-color: var(--fill-color);\n",
              "    }\n",
              "    80% {\n",
              "      border-color: transparent;\n",
              "      border-right-color: var(--fill-color);\n",
              "      border-bottom-color: var(--fill-color);\n",
              "    }\n",
              "    90% {\n",
              "      border-color: transparent;\n",
              "      border-bottom-color: var(--fill-color);\n",
              "    }\n",
              "  }\n",
              "</style>\n",
              "\n",
              "  <script>\n",
              "    async function quickchart(key) {\n",
              "      const quickchartButtonEl =\n",
              "        document.querySelector('#' + key + ' button');\n",
              "      quickchartButtonEl.disabled = true;  // To prevent multiple clicks.\n",
              "      quickchartButtonEl.classList.add('colab-df-spinner');\n",
              "      try {\n",
              "        const charts = await google.colab.kernel.invokeFunction(\n",
              "            'suggestCharts', [key], {});\n",
              "      } catch (error) {\n",
              "        console.error('Error during call to suggestCharts:', error);\n",
              "      }\n",
              "      quickchartButtonEl.classList.remove('colab-df-spinner');\n",
              "      quickchartButtonEl.classList.add('colab-df-quickchart-complete');\n",
              "    }\n",
              "    (() => {\n",
              "      let quickchartButtonEl =\n",
              "        document.querySelector('#df-10ad6454-cf0e-4ce2-9799-7408e9069793 button');\n",
              "      quickchartButtonEl.style.display =\n",
              "        google.colab.kernel.accessAllowed ? 'block' : 'none';\n",
              "    })();\n",
              "  </script>\n",
              "</div>\n",
              "\n",
              "    </div>\n",
              "  </div>\n"
            ],
            "application/vnd.google.colaboratory.intrinsic+json": {
              "type": "dataframe",
              "variable_name": "Callout_count",
              "summary": "{\n  \"name\": \"Callout_count\",\n  \"rows\": 119,\n  \"fields\": [\n    {\n      \"column\": \"EmplID\",\n      \"properties\": {\n        \"dtype\": \"string\",\n        \"num_unique_values\": 119,\n        \"samples\": [\n          \"Shalika Holt\",\n          \"Matthews, Lewis\",\n          \"Stevens, Jermaine B\"\n        ],\n        \"semantic_type\": \"\",\n        \"description\": \"\"\n      }\n    },\n    {\n      \"column\": \"Callout Count\",\n      \"properties\": {\n        \"dtype\": \"number\",\n        \"std\": 36,\n        \"min\": 1,\n        \"max\": 188,\n        \"num_unique_values\": 66,\n        \"samples\": [\n          18,\n          5,\n          188\n        ],\n        \"semantic_type\": \"\",\n        \"description\": \"\"\n      }\n    }\n  ]\n}"
            }
          },
          "metadata": {},
          "execution_count": 42
        }
      ]
    },
    {
      "cell_type": "code",
      "source": [
        "# Calculate the frequency of call-outs for each employee\n",
        "Callout_count = df.groupby(\"EmplID - Employee Name\")[\"Workforce Callout Number\"].count().reset_index()\n",
        "\n",
        "# Sort the results in descending order of call-out count\n",
        "Callout_count.sort_values(\"Workforce Callout Number\", ascending=False, inplace=True)\n",
        "\n",
        "# Rename the columns for clarity\n",
        "Callout_count.columns = ['EmplID', 'Callout Count']\n",
        "\n",
        "# Select the top 10 employees with the highest call-out counts\n",
        "Top_10_Callout_count = Callout_count.head(10)\n",
        "\n",
        "# Create a bar chart to visualize the call-out frequency for the top 10 employees\n",
        "Top_10_Callout_count.plot(x='EmplID', y='Callout Count', kind='bar')\n",
        "\n",
        "# Set the title and labels for the chart\n",
        "plt.title(\"Callout Frequency for Top 10 Employees\")\n",
        "plt.xlabel(\"Employee Name\")\n",
        "plt.ylabel(\"Number of Callouts\")\n",
        "\n",
        "# Display the chart\n",
        "plt.show()"
      ],
      "metadata": {
        "colab": {
          "base_uri": "https://localhost:8080/",
          "height": 612
        },
        "id": "3-puiFCbMwr5",
        "outputId": "228e3f99-234d-4556-bc0c-deda4a8a0e41"
      },
      "execution_count": 43,
      "outputs": [
        {
          "output_type": "display_data",
          "data": {
            "text/plain": [
              "<Figure size 640x480 with 1 Axes>"
            ],
            "image/png": "[encoded data removed]"
          },
          "metadata": {}
        }
      ]
    },
    {
      "cell_type": "markdown",
      "source": [
        "### **Inference:**\n",
        "\n",
        "The data reveals notable differences in call-out counts among various employees, indicating potential variations in absenteeism rates across the workforce. Employees like Britannia Poston, Rolisha A Johnson, and Tiffany D Thompson have significantly higher call-out counts compared to others, suggesting they may face recurring absenteeism issues or chronic reasons for absence.\n",
        "\n",
        "### **Possible Causes:**\n",
        "\n",
        "Chronic Absenteeism Patterns:\n",
        "\n",
        "Employees with consistently high call-out counts, such as Britannia Poston and Rolisha A Johnson, may be experiencing ongoing absenteeism issues, possibly due to health concerns, personal circumstances, or job-related factors.\n",
        "\n",
        "Job-related Stress or Dissatisfaction:\n",
        "\n",
        "High call-out counts among certain employees could be indicative of job-related stress or dissatisfaction. Factors such as workload, job responsibilities, or workplace environment may contribute to absenteeism.\n",
        "\n",
        "Support Needs:\n",
        "\n",
        "Employees with frequent call-outs, such as Tiffany D Thompson or Latoya D Hopkins, may require additional support or accommodations. Addressing underlying issues and providing necessary support can help improve attendance and well-being.\n",
        "\n",
        "Absenteeism Trends:\n",
        "\n",
        "Analyzing call-out counts over time can reveal trends and patterns, such as seasonal variations or specific days of the week with higher absenteeism rates. Understanding these trends can help in developing targeted interventions.\n",
        "\n",
        "### **Recommendations:**\n",
        "\n",
        "Supportive Interventions:\n",
        "\n",
        "Implement targeted interventions to address the specific needs of employees with high call-out counts. This could include providing counseling, flexible work arrangements, or wellness programs to support employee well-being.\n",
        "\n",
        "Communication and Engagement:\n",
        "\n",
        "Foster open communication channels and promote employee engagement to address underlying issues contributing to absenteeism. Regular feedback sessions and employee surveys can help identify areas for improvement.\n",
        "\n",
        "Performance Management:\n",
        "\n",
        "Review performance management practices to ensure fair and consistent treatment of employees. Providing recognition for attendance and addressing performance issues promptly can help mitigate absenteeism.\n",
        "\n",
        "Workplace Policies:\n",
        "\n",
        "Review and update workplace policies and procedures to ensure they support employee well-being and attendance. This could include policies related to sick leave, remote work, and flexible scheduling."
      ],
      "metadata": {
        "id": "oCEA4gFnqeQB"
      }
    },
    {
      "cell_type": "markdown",
      "source": [
        "### Related Employee Impact"
      ],
      "metadata": {
        "id": "DuAEPDAkdySQ"
      }
    },
    {
      "cell_type": "code",
      "source": [
        "# Group by related employee and count the number of call-outs for each related employee\n",
        "related_employee_impact = df.groupby('Related Employee')['Workforce Callout Number'].count().sort_values(ascending=False)\n",
        "related_employee_impact.head(10)"
      ],
      "metadata": {
        "colab": {
          "base_uri": "https://localhost:8080/"
        },
        "id": "VOgUpTCsrNS1",
        "outputId": "fbcd986a-00aa-4fbe-83a9-0e4abd20f031"
      },
      "execution_count": 46,
      "outputs": [
        {
          "output_type": "execute_result",
          "data": {
            "text/plain": [
              "Related Employee\n",
              "41820     188\n",
              "111881    176\n",
              "101589    153\n",
              "42232     125\n",
              "42381     121\n",
              "123310    118\n",
              "108814    115\n",
              "112095    114\n",
              "103558    114\n",
              "42219     103\n",
              "Name: Workforce Callout Number, dtype: int64"
            ]
          },
          "metadata": {},
          "execution_count": 46
        }
      ]
    },
    {
      "cell_type": "code",
      "source": [
        "# Group by related employee and count the number of call-outs for each related employee\n",
        "related_employee_impact = df.groupby('Related Employee')['Workforce Callout Number'].count().sort_values(ascending=False)\n",
        "\n",
        "# Plot the impact of related employees on absenteeism\n",
        "plt.figure(figsize=(10, 6))\n",
        "related_employee_impact.head(10).plot(kind='bar')\n",
        "plt.title('Related Employee Impact')\n",
        "plt.xlabel('Related Employee')\n",
        "plt.ylabel('Number of Call-outs')\n",
        "plt.xticks(rotation=45)\n",
        "plt.grid(axis='y')\n",
        "plt.show()\n"
      ],
      "metadata": {
        "colab": {
          "base_uri": "https://localhost:8080/",
          "height": 598
        },
        "id": "iQhFuYHsdynd",
        "outputId": "6ee09a3c-37b5-44f9-a0ba-e9a510c46f57"
      },
      "execution_count": null,
      "outputs": [
        {
          "output_type": "display_data",
          "data": {
            "text/plain": [
              "<Figure size 1000x600 with 1 Axes>"
            ],
            "image/png": "[encoded data removed]"
          },
          "metadata": {}
        }
      ]
    },
    {
      "cell_type": "markdown",
      "source": [
        "\n",
        "The above bar plot shows how many times related employees are involved in absenteeism. If someone's name appears a lot in the plot, it means they're often connected to others' absences. This helps us see how one person's absence affects their colleagues' attendance. It's a useful way to understand teamwork and how absences can impact the whole team's performance."
      ],
      "metadata": {
        "id": "B6VF8Ar1kOvB"
      }
    },
    {
      "cell_type": "markdown",
      "source": [
        "### **Inference:**\n",
        "\n",
        "The data indicates a significant impact of related employees on absenteeism, with certain individuals being associated with a high number of call-outs. Employees with the IDs 41820, 111881, and 101589 have the highest call-out counts, suggesting their involvement in multiple absenteeism incidents.\n",
        "\n",
        "### **Possible Causes:**\n",
        "\n",
        "Collaborative Work Environment:\n",
        "\n",
        "Employees may be closely connected to others in their work environment, leading to their involvement in each other's absenteeism incidents.\n",
        "\n",
        "Team Dynamics:\n",
        "\n",
        "Certain teams or departments may exhibit higher absenteeism rates, potentially due to shared responsibilities or work conditions.\n",
        "\n",
        "Supervisory Relationships:\n",
        "\n",
        "Employees with supervisory roles or responsibilities may be more likely to be involved in absenteeism incidents of their subordinates.\n",
        "\n",
        "Workload Distribution:\n",
        "\n",
        "Uneven workload distribution or workload dependencies among employees could result in absenteeism incidents affecting multiple individuals.\n",
        "\n",
        "### **Recommendations:**\n",
        "\n",
        "Identify Root Causes:\n",
        "\n",
        "Conduct a detailed analysis to understand the underlying reasons for the high involvement of related employees in absenteeism incidents.\n",
        "\n",
        "Address Work Environment Factors:\n",
        "\n",
        "Take measures to improve work environment conditions, promote teamwork, and foster positive relationships among employees.\n",
        "\n",
        "Implement Supportive Policies:\n",
        "\n",
        "Implement policies and procedures that support employee well-being, such as flexible work arrangements, employee assistance programs, and wellness initiatives.\n",
        "\n",
        "Provide Leadership Training:\n",
        "\n",
        "Provide training and support to supervisors and managers to effectively manage absenteeism and promote employee engagement and attendance."
      ],
      "metadata": {
        "id": "fgnBrxCQsf1k"
      }
    },
    {
      "cell_type": "markdown",
      "source": [
        "### Call-out Frequency over Time"
      ],
      "metadata": {
        "id": "uaGiNPQoXZiD"
      }
    },
    {
      "cell_type": "code",
      "source": [
        "# Convert 'Date Created' column to datetime\n",
        "df['Date Created'] = pd.to_datetime(df['Date Created'])\n",
        "\n",
        "# Extract year and month from the 'Date Created' column\n",
        "df['Year'] = df['Date Created'].dt.year\n",
        "df['Month'] = df['Date Created'].dt.month\n",
        "\n",
        "# Group by year and month and count the number of call-outs\n",
        "monthly_callouts = df.groupby(['Year', 'Month'])['Workforce Callout Number'].count()\n",
        "\n",
        "# Display the monthly call-out counts\n",
        "print(monthly_callouts)"
      ],
      "metadata": {
        "colab": {
          "base_uri": "https://localhost:8080/"
        },
        "id": "Q8rYGR_2IEcz",
        "outputId": "aad74423-ea61-4254-c213-9fe48850afd5"
      },
      "execution_count": null,
      "outputs": [
        {
          "output_type": "stream",
          "name": "stdout",
          "text": [
            "Year  Month\n",
            "2022  9         30\n",
            "      10       162\n",
            "      11       185\n",
            "      12       203\n",
            "2023  1        247\n",
            "      2        219\n",
            "      3        237\n",
            "      4        217\n",
            "      5        284\n",
            "      6        339\n",
            "      7        323\n",
            "      8        307\n",
            "      9        363\n",
            "      10       346\n",
            "      11       328\n",
            "      12       371\n",
            "2024  1        475\n",
            "      2        370\n",
            "      3        184\n",
            "Name: Workforce Callout Number, dtype: int64\n"
          ]
        },
        {
          "output_type": "stream",
          "name": "stderr",
          "text": [
            "<ipython-input-68-a28c15d873d6>:2: SettingWithCopyWarning: \n",
            "A value is trying to be set on a copy of a slice from a DataFrame.\n",
            "Try using .loc[row_indexer,col_indexer] = value instead\n",
            "\n",
            "See the caveats in the documentation: https://pandas.pydata.org/pandas-docs/stable/user_guide/indexing.html#returning-a-view-versus-a-copy\n",
            "  df['Date Created'] = pd.to_datetime(df['Date Created'])\n",
            "<ipython-input-68-a28c15d873d6>:5: SettingWithCopyWarning: \n",
            "A value is trying to be set on a copy of a slice from a DataFrame.\n",
            "Try using .loc[row_indexer,col_indexer] = value instead\n",
            "\n",
            "See the caveats in the documentation: https://pandas.pydata.org/pandas-docs/stable/user_guide/indexing.html#returning-a-view-versus-a-copy\n",
            "  df['Year'] = df['Date Created'].dt.year\n",
            "<ipython-input-68-a28c15d873d6>:6: SettingWithCopyWarning: \n",
            "A value is trying to be set on a copy of a slice from a DataFrame.\n",
            "Try using .loc[row_indexer,col_indexer] = value instead\n",
            "\n",
            "See the caveats in the documentation: https://pandas.pydata.org/pandas-docs/stable/user_guide/indexing.html#returning-a-view-versus-a-copy\n",
            "  df['Month'] = df['Date Created'].dt.month\n"
          ]
        }
      ]
    },
    {
      "cell_type": "code",
      "source": [
        "# Plot the monthly call-out counts\n",
        "monthly_callouts.sort_values(ascending=False).plot(kind='bar')\n",
        "\n",
        "# Set the title and labels for the chart\n",
        "plt.title(\"Monthly Call-Out Counts\")\n",
        "plt.xlabel(\"Year and Month\")\n",
        "plt.ylabel(\"Number of Call-Outs\")\n",
        "\n",
        "\n",
        "\n",
        "# Display the chart\n",
        "plt.show()\n"
      ],
      "metadata": {
        "colab": {
          "base_uri": "https://localhost:8080/",
          "height": 530
        },
        "id": "bQnGUVDkXKP7",
        "outputId": "c16644bb-264a-4b0b-94fa-717de4f958f8"
      },
      "execution_count": null,
      "outputs": [
        {
          "output_type": "display_data",
          "data": {
            "text/plain": [
              "<Figure size 640x480 with 1 Axes>"
            ],
            "image/png": "[encoded data removed]"
          },
          "metadata": {}
        }
      ]
    },
    {
      "cell_type": "markdown",
      "source": [
        "### **Inference:**\n",
        "\n",
        "The analysis unveils fluctuating absenteeism patterns over time, with varying frequencies across different months and years.\n",
        "\n",
        "### **Trends:**\n",
        "\n",
        "Overall Trend:\n",
        "\n",
        "An upward trend in absenteeism is evident from September 2022 to January 2024, with occasional fluctuations.\n",
        "\n",
        "Seasonal Patterns:\n",
        "\n",
        "Peaks and troughs suggest possible seasonal influences, with notable spikes observed during October-November 2022, June-September 2023, and January 2024.\n",
        "\n",
        "Monthly Fluctuations:\n",
        "\n",
        "Certain months exhibit higher absenteeism rates, particularly September 2023 and January 2024, with 363 and 475 call-outs respectively.\n",
        "\n",
        "### **Possible Causes:**\n",
        "\n",
        "Seasonal Factors:\n",
        "\n",
        "Holidays, weather conditions, or peak business periods may contribute to absenteeism fluctuations.\n",
        "\n",
        "Workload Variations:\n",
        "\n",
        "Changes in workload or operational demands could impact absenteeism rates.\n",
        "\n",
        "Employee Well-being:\n",
        "\n",
        "Factors such as stress, illness, or burnout may influence absenteeism trends over time.\n",
        "\n",
        "### **Recommendations:**\n",
        "\n",
        "Wellness Programs:\n",
        "\n",
        "Implement tailored wellness initiatives targeting the unique needs of bus attendants and motor vehicle operators to improve their health and well-being.\n",
        "\n",
        "Flexible Policies:\n",
        "\n",
        "Introduce flexible work arrangements specifically designed for bus attendants and motor vehicle operators to accommodate their schedules and reduce absenteeism during peak periods.\n",
        "\n",
        "Performance Monitoring:\n",
        "\n",
        "Regularly monitor absenteeism trends among bus attendants and motor vehicle operators to identify patterns and implement targeted interventions to maintain productivity and employee engagement."
      ],
      "metadata": {
        "id": "2nqS100OtI38"
      }
    },
    {
      "cell_type": "markdown",
      "source": [
        "### Shift-wise Absenteeism:"
      ],
      "metadata": {
        "id": "FOyPl1qFcgaF"
      }
    },
    {
      "cell_type": "code",
      "source": [
        "# Group by shift and count the number of call-outs for each shift\n",
        "shift_absenteeism = df.groupby('Shift')['Workforce Callout Number'].count().sort_values(ascending=False)\n",
        "shift_absenteeism"
      ],
      "metadata": {
        "colab": {
          "base_uri": "https://localhost:8080/"
        },
        "id": "bYP3zJcQwKk7",
        "outputId": "301ba306-260f-41bc-8919-b3382bdaf802"
      },
      "execution_count": 48,
      "outputs": [
        {
          "output_type": "execute_result",
          "data": {
            "text/plain": [
              "Shift\n",
              "AM and PM    3018\n",
              "PM           1480\n",
              "AM            692\n",
              "Name: Workforce Callout Number, dtype: int64"
            ]
          },
          "metadata": {},
          "execution_count": 48
        }
      ]
    },
    {
      "cell_type": "code",
      "source": [
        "# Group by shift and count the number of call-outs for each shift\n",
        "shift_absenteeism = df.groupby('Shift')['Workforce Callout Number'].count().sort_values(ascending=False)\n",
        "\n",
        "# Plot the shift-wise absenteeism\n",
        "plt.figure(figsize=(8, 5))\n",
        "shift_absenteeism.plot(kind='bar')\n",
        "plt.title('Shift-wise Absenteeism')\n",
        "plt.xlabel('Shift')\n",
        "plt.ylabel('Number of Call-outs')\n",
        "plt.xticks(rotation=45)\n",
        "plt.grid(axis='y')\n",
        "plt.show()"
      ],
      "metadata": {
        "colab": {
          "base_uri": "https://localhost:8080/",
          "height": 537
        },
        "id": "Bin3_0WwcbMi",
        "outputId": "858ef7c9-9e5b-4bb9-93d1-4592f1640b14"
      },
      "execution_count": 49,
      "outputs": [
        {
          "output_type": "display_data",
          "data": {
            "text/plain": [
              "<Figure size 800x500 with 1 Axes>"
            ],
            "image/png": "[encoded data removed]"
          },
          "metadata": {}
        }
      ]
    },
    {
      "cell_type": "markdown",
      "source": [
        "### **Inference:**\n",
        "\n",
        "The analysis of shift-wise absenteeism highlights significant disparities in call-out frequency across different shifts.\n",
        "\n",
        "### **Insights:**\n",
        "\n",
        "Dominance of AM and PM Shifts:\n",
        "\n",
        "The combined \"AM and PM\" shift exhibits the highest absenteeism rate, with a total of 3,018 call-outs. This suggests that employees assigned to both morning and afternoon shifts are more prone to absenteeism compared to those assigned to either the morning or afternoon shift exclusively.\n",
        "\n",
        "Lower Absenteeism in PM Shift:\n",
        "\n",
        "The \"PM\" shift records a moderate absenteeism rate, with 1,480 call-outs. While lower than the combined AM and PM shift, this still indicates a notable level of absenteeism among employees working exclusively during the afternoon hours.\n",
        "\n",
        "Lowest Absenteeism in AM Shift:\n",
        "\n",
        "The \"AM\" shift demonstrates the lowest absenteeism rate, with only 692 call-outs. This suggests that employees assigned to the morning shift experience relatively fewer absenteeism incidents compared to their counterparts on other shifts.\n",
        "\n",
        "### **Recommendation:**\n",
        "\n",
        "Further Investigation:\n",
        "\n",
        "Conduct a detailed analysis to identify underlying factors contributing to the discrepancies in absenteeism rates across different shifts. Factors such as workload distribution, shift scheduling, and employee preferences should be explored to better understand the reasons behind the observed patterns.\n",
        "\n",
        "Targeted Interventions:\n",
        "\n",
        "Implement targeted interventions aimed at reducing absenteeism among employees assigned to the AM and PM shifts, as they exhibit the highest absenteeism rates. This may involve providing additional support, addressing workload issues, or offering incentives to improve attendance.\n",
        "\n",
        "Shift Planning Optimization:\n",
        "\n",
        "Review and optimize shift planning processes to ensure a balanced distribution of workload and minimize potential stressors that could contribute to absenteeism. Flexibility in shift scheduling and accommodating employee preferences may also help in improving attendance rates."
      ],
      "metadata": {
        "id": "AbPW4eG_wrGh"
      }
    },
    {
      "cell_type": "markdown",
      "source": [
        "# **Overall Insight and Recommendation:-**"
      ],
      "metadata": {
        "id": "UEQdl1lUzLWr"
      }
    },
    {
      "cell_type": "markdown",
      "source": [
        "\n",
        "## **Insights:**\n",
        "\n",
        "1. Unscheduled sick leave is predominant, indicating a need for health-related support programs and absenteeism management strategies.\n",
        "\n",
        "2. There's a substantial difference between Bus Attendants and Motor Vehicle Operators, warranting a review of workload distribution and job satisfaction among these roles.\n",
        "\n",
        "3. AM and PM mixed shift preference signals potential scheduling issues or workload distribution imbalances, requiring optimization and flexibility in shift planning.\n",
        "\n",
        "4. Employees like Britannia Poston, Rolisha A Johnson, and Tiffany D Thompson exhibit high absenteeism rates, suggesting the need for personalized support interventions and performance management strategies.\n",
        "\n",
        "5. Identifying root causes behind high involvement in absenteeism incidents and fostering a supportive work environment can mitigate absenteeism rates among related employees.\n",
        "\n",
        "6. Seasonal and monthly fluctuations in absenteeism call for tailored wellness programs, flexible policies, and performance monitoring to address varying workload and employee well-being concerns.\n",
        "\n",
        "7. Further investigation into factors contributing to different shift absenteeism rates is necessary, with targeted interventions focused on optimizing shift planning and addressing potential stressors.\n",
        "\n",
        "## **Recommendations:**\n",
        "\n",
        "1. Implement tailored wellness programs to support employee health and well-being, addressing prevalent absence reasons like unscheduled sick leave.\n",
        "\n",
        "2. Review workload distribution and job satisfaction among Bus Attendants and Motor Vehicle Operators to ensure equitable treatment and promote engagement.\n",
        "\n",
        "3. Optimize shift planning processes to address disparities in absenteeism rates across different shifts, ensuring flexibility and balance in scheduling.\n",
        "\n",
        "4. Provide personalized support and performance management interventions for employees with high absenteeism rates, addressing underlying issues and promoting accountability.\n",
        "\n",
        "5. Foster a supportive work environment and open communication channels to mitigate absenteeism's impact, emphasizing teamwork and collaboration.\n",
        "\n",
        "6. Continuously monitor absenteeism trends and adjust strategies accordingly to maintain workforce productivity and well-being."
      ],
      "metadata": {
        "id": "lgZ6H6UfzSeT"
      }
    }
  ]
}